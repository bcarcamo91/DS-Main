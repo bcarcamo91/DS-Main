{
 "cells": [
  {
   "cell_type": "code",
   "execution_count": null,
   "id": "363dbea1-4fbf-4b5f-b728-fefbcdef3637",
   "metadata": {},
   "outputs": [],
   "source": [
    "## Exception Handling"
   ]
  },
  {
   "cell_type": "code",
   "execution_count": 1,
   "id": "ce338fd7-2611-4c05-83e9-518a6ba340d4",
   "metadata": {
    "tags": []
   },
   "outputs": [
    {
     "ename": "ZeroDivisionError",
     "evalue": "division by zero",
     "output_type": "error",
     "traceback": [
      "\u001b[1;31m---------------------------------------------------------------------------\u001b[0m",
      "\u001b[1;31mZeroDivisionError\u001b[0m                         Traceback (most recent call last)",
      "Cell \u001b[1;32mIn[1], line 1\u001b[0m\n\u001b[1;32m----> 1\u001b[0m \u001b[38;5;241;43m1\u001b[39;49m\u001b[38;5;241;43m/\u001b[39;49m\u001b[38;5;241;43m0\u001b[39;49m\n",
      "\u001b[1;31mZeroDivisionError\u001b[0m: division by zero"
     ]
    }
   ],
   "source": [
    "#ZeroDivisionError\n",
    "1/0"
   ]
  },
  {
   "cell_type": "code",
   "execution_count": 2,
   "id": "39c07610-8c30-4c99-8899-cc0947df4606",
   "metadata": {
    "tags": []
   },
   "outputs": [
    {
     "ename": "NameError",
     "evalue": "name 'a' is not defined",
     "output_type": "error",
     "traceback": [
      "\u001b[1;31m---------------------------------------------------------------------------\u001b[0m",
      "\u001b[1;31mNameError\u001b[0m                                 Traceback (most recent call last)",
      "Cell \u001b[1;32mIn[2], line 1\u001b[0m\n\u001b[1;32m----> 1\u001b[0m y \u001b[38;5;241m=\u001b[39m \u001b[43ma\u001b[49m \u001b[38;5;241m+\u001b[39m \u001b[38;5;241m5\u001b[39m\n",
      "\u001b[1;31mNameError\u001b[0m: name 'a' is not defined"
     ]
    }
   ],
   "source": [
    "#NameError\n",
    "y = a + 5"
   ]
  },
  {
   "cell_type": "code",
   "execution_count": 3,
   "id": "704e9565-f393-4e05-9353-6464b93e3515",
   "metadata": {
    "tags": []
   },
   "outputs": [
    {
     "ename": "IndexError",
     "evalue": "list index out of range",
     "output_type": "error",
     "traceback": [
      "\u001b[1;31m---------------------------------------------------------------------------\u001b[0m",
      "\u001b[1;31mIndexError\u001b[0m                                Traceback (most recent call last)",
      "Cell \u001b[1;32mIn[3], line 2\u001b[0m\n\u001b[0;32m      1\u001b[0m a \u001b[38;5;241m=\u001b[39m [\u001b[38;5;241m1\u001b[39m, \u001b[38;5;241m2\u001b[39m, \u001b[38;5;241m3\u001b[39m]\n\u001b[1;32m----> 2\u001b[0m \u001b[43ma\u001b[49m\u001b[43m[\u001b[49m\u001b[38;5;241;43m10\u001b[39;49m\u001b[43m]\u001b[49m\n",
      "\u001b[1;31mIndexError\u001b[0m: list index out of range"
     ]
    }
   ],
   "source": [
    "#IndexError\n",
    "a = [1, 2, 3]\n",
    "a[10]"
   ]
  },
  {
   "cell_type": "code",
   "execution_count": null,
   "id": "77750006-59df-4619-bf78-7b1c741111ef",
   "metadata": {},
   "outputs": [],
   "source": [
    "#Try except allows you to \n",
    "#execute code tha might raise an exception and in the case of any excption or a specific one we can hanle or catch the exception and execute specific code\n",
    "try:\n",
    "    #code to try to execute\n",
    "except:\n",
    "    #code to execute if there is an exception\n",
    "    \n",
    "#code that will still execute if there is an exception"
   ]
  },
  {
   "cell_type": "code",
   "execution_count": 5,
   "id": "ff7df1a5-a348-4e18-a44c-1f571e1bf736",
   "metadata": {
    "tags": []
   },
   "outputs": [
    {
     "ename": "SyntaxError",
     "evalue": "unterminated string literal (detected at line 8) (1199458675.py, line 8)",
     "output_type": "error",
     "traceback": [
      "\u001b[1;36m  Cell \u001b[1;32mIn[5], line 8\u001b[1;36m\u001b[0m\n\u001b[1;33m    print(\"There was an error')\u001b[0m\n\u001b[1;37m          ^\u001b[0m\n\u001b[1;31mSyntaxError\u001b[0m\u001b[1;31m:\u001b[0m unterminated string literal (detected at line 8)\n"
     ]
    }
   ],
   "source": [
    "#Try except example\n",
    "a = 1\n",
    "try:\n",
    "    b = int(input(\"Please enter a number to divide a\"))\n",
    "    a = a/b\n",
    "    print('Success =', a)\n",
    "except:\n",
    "    print(\"There was an error')"
   ]
  },
  {
   "cell_type": "code",
   "execution_count": null,
   "id": "78ed2d97-e0aa-428e-bfd1-00abb0809d23",
   "metadata": {},
   "outputs": [],
   "source": [
    "#potential code before try catch\n",
    "try:\n",
    "    #code to ry to execute\n",
    "except (ZeroDivisionERror, NameError):\n",
    "    #code to execute if tthere is an exception of the iven types\n",
    "    \n",
    "#code that will execute if tehre is no exception or a one that w are handling"
   ]
  },
  {
   "cell_type": "code",
   "execution_count": null,
   "id": "c31e701c-69be-41db-97ba-b6ba28253ecb",
   "metadata": {},
   "outputs": [],
   "source": [
    "#potential code bofre try catch\n",
    "try:\n",
    "    #code to try to execute\n",
    "except ZeroDivisionError:\n",
    "    #code to execute if there is a ZeroDviisionError\n",
    "except NameError:\n",
    "    #code to exeute if there is a NameError\n",
    "    \n",
    "#Code that will execute if there is no exception or a onet hat we are handling"
   ]
  },
  {
   "cell_type": "code",
   "execution_count": null,
   "id": "512a6c4b-017b-4287-b8c2-0e75bda68d55",
   "metadata": {},
   "outputs": [],
   "source": [
    "#Potential code bfore try catch\n",
    "\n",
    "try:\n",
    "    #code to try to execute\n",
    "except zeroDivisionError:\n",
    "    #code to execute if there is a Zero Division Errorr\n",
    "except NameError:\n",
    "    #code to execute if there is a NameError\n",
    "except:\n",
    "    #code to execute if there is an exception\n",
    "\n",
    "#code that will execute if there is no exception or a one that we are handling"
   ]
  },
  {
   "cell_type": "code",
   "execution_count": null,
   "id": "e4fb23b4-59f8-47d9-8301-99b85b3f028f",
   "metadata": {},
   "outputs": [],
   "source": [
    "a = 1\n",
    "\n",
    "try:\n",
    "    b = int(input(\"Please enter a number to divide a\"))\n",
    "    a = a/b\n",
    "    print(\"Success a=\",a)\n",
    "except ZeroDivisionError:\n",
    "    print(\"The number you provided cant divide 1 because it is 0\")\n",
    "except ValueError:\n",
    "    print(\"You did not provide a number\")\n",
    "except:\n",
    "    print(\"Something went wrong\")\n",
    "    "
   ]
  },
  {
   "cell_type": "code",
   "execution_count": null,
   "id": "0a5d04be-ccb3-4c42-9805-405a938b955f",
   "metadata": {},
   "outputs": [],
   "source": [
    "# potential code before try catch\n",
    "\n",
    "try:\n",
    "    # code to try to execute\n",
    "except ZeroDivisionError:\n",
    "    # code to execute if there is a ZeroDivisionError\n",
    "except NameError:\n",
    "    # code to execute if there is a NameError\n",
    "except:\n",
    "    # code to execute if ther is any exception\n",
    "else:\n",
    "    # code to execute if there is no exception\n",
    "    \n",
    "# code that will execute if there is no exception or a one that we are handling"
   ]
  },
  {
   "cell_type": "code",
   "execution_count": null,
   "id": "347aa14c-e568-4a79-95ab-c4f960452e64",
   "metadata": {},
   "outputs": [],
   "source": [
    "# potential code before try catch\n",
    "\n",
    "try:\n",
    "    # code to try to execute\n",
    "except ZeroDivisionError:\n",
    "    # code to execute if there is a ZeroDivisionError\n",
    "except NameError:\n",
    "    # code to execute if there is a NameError\n",
    "except:\n",
    "    # code to execute if ther is any exception\n",
    "else:\n",
    "    # code to execute if there is no exception\n",
    "finally:\n",
    "    # code to execute at the end of the try except no matter what\n",
    "    \n",
    "# code that will execute if there is no exception or a one that we are handling"
   ]
  },
  {
   "cell_type": "code",
   "execution_count": null,
   "id": "b8ea189a-d1e0-4e93-a9c9-30efa6b4f8cb",
   "metadata": {},
   "outputs": [],
   "source": [
    "a = 1\n",
    "\n",
    "try:\n",
    "    b = int(input(\"Please enter a number to divide a\"))\n",
    "    a = a/b\n",
    "except ZeroDivisionError:\n",
    "    print(\"The number you provided cant divide 1 because it is 0\")\n",
    "except ValueError:\n",
    "    print(\"You did not provide a number\")\n",
    "except:\n",
    "    print(\"Something went wrong\")\n",
    "else:\n",
    "    print(\"success a=\",a)"
   ]
  },
  {
   "cell_type": "code",
   "execution_count": null,
   "id": "6513b0f8-7012-4f6c-a48a-ed9847b76f5d",
   "metadata": {},
   "outputs": [],
   "source": [
    "a = 1\n",
    "\n",
    "try:\n",
    "    b = int(input(\"Please enter a number to divide a\"))\n",
    "    a = a/b\n",
    "except ZeroDivisionError:\n",
    "    print(\"The number you provided cant divide 1 because it is 0\")\n",
    "except ValueError:\n",
    "    print(\"You did not provide a number\")\n",
    "except:\n",
    "    print(\"Something went wrong\")\n",
    "else:\n",
    "    print(\"success a=\",a)\n",
    "finally:\n",
    "    print(\"Processing Complete\")"
   ]
  },
  {
   "cell_type": "code",
   "execution_count": 1,
   "id": "a49b2d65-b557-45a8-97d4-61d55cc2780e",
   "metadata": {
    "tags": []
   },
   "outputs": [
    {
     "name": "stdin",
     "output_type": "stream",
     "text": [
      "Enter the numerator value:- 20\n",
      "enter the denominator value:- 80\n"
     ]
    },
    {
     "name": "stdout",
     "output_type": "stream",
     "text": [
      "0.25\n"
     ]
    }
   ],
   "source": [
    "#Handling ZeroDvisionError\n",
    "\n",
    "def safe_divide(numerator, denominator):\n",
    "    try:\n",
    "        result = numerator / denominator\n",
    "        return result\n",
    "    except ZeroDivisionError:\n",
    "        print(\"Error: Cannot divie by zero.\")\n",
    "        return None\n",
    "#Test case\n",
    "numerator = int(input(\"Enter the numerator value:-\"))\n",
    "denominator=int(input(\"enter the denominator value:-\"))\n",
    "print(safe_divide(numerator, denominator))"
   ]
  },
  {
   "cell_type": "code",
   "execution_count": null,
   "id": "c2bf9afc-3d10-468a-9b90-f09186340ca0",
   "metadata": {},
   "outputs": [],
   "source": [
    "#Handling VAlueError\n",
    "\n",
    "def perform_calculation(number1, numbwer2):\n",
    "    try:\n",
    "        result = number1*number2\n",
    "        print(f\"Result: {result}\")\n",
    "    except ValueEror:\n",
    "        print(\"Error: Invalid input! Please enter an integer.\")\n",
    "        \n",
    "#Test case\n",
    "number1 = float(input(\"Enter the first number:-\"))\n",
    "number2 = float(input(\"Enter the second number:-\"))\n",
    "perform_calculation(number1, number2)\n",
    "**Note:- Test with different inp;uts to validate error handling.**"
   ]
  },
  {
   "cell_type": "code",
   "execution_count": 2,
   "id": "d9911e0d-7016-463d-b86d-e69ca554ac76",
   "metadata": {
    "tags": []
   },
   "outputs": [],
   "source": [
    "#Handling Generic Exceptions\n",
    "\n",
    "def complex_calculation(num):\n",
    "    try:\n",
    "        result=num/(num-5)\n",
    "        print (f\"Result: {result}\")\n",
    "    except Exception as e:\n",
    "        print(\"An error ocurred during calculation.\")\n",
    "    #Test case\n",
    "    user_input = float(input(\"Enter a number: \"))\n",
    "    complex_calculation(user_input)"
   ]
  }
 ],
 "metadata": {
  "kernelspec": {
   "display_name": "Python 3 (ipykernel)",
   "language": "python",
   "name": "python3"
  },
  "language_info": {
   "codemirror_mode": {
    "name": "ipython",
    "version": 3
   },
   "file_extension": ".py",
   "mimetype": "text/x-python",
   "name": "python",
   "nbconvert_exporter": "python",
   "pygments_lexer": "ipython3",
   "version": "3.11.3"
  }
 },
 "nbformat": 4,
 "nbformat_minor": 5
}
