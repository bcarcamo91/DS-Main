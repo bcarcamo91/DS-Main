{
 "cells": [
  {
   "cell_type": "markdown",
   "id": "570a605a-2c63-4233-91f8-06a226e3ae49",
   "metadata": {},
   "source": [
    "## Functions in Python"
   ]
  },
  {
   "cell_type": "code",
   "execution_count": 2,
   "id": "a675bc8e-3178-4fd3-af53-dee1a2b1411e",
   "metadata": {
    "tags": []
   },
   "outputs": [],
   "source": [
    "#Add 1 to a and store as b\n",
    "def add(a):\n",
    "    b = a + 1\n",
    "    print(a, 'if you add one', b)\n",
    "    return(b)"
   ]
  },
  {
   "cell_type": "code",
   "execution_count": 3,
   "id": "c962e370-edaa-4ac5-97eb-b4f70d5b9d63",
   "metadata": {
    "tags": []
   },
   "outputs": [
    {
     "name": "stdout",
     "output_type": "stream",
     "text": [
      "Help on function add in module __main__:\n",
      "\n",
      "add(a)\n",
      "    #Add 1 to a and store as b\n",
      "\n"
     ]
    }
   ],
   "source": [
    "help(add)"
   ]
  },
  {
   "cell_type": "code",
   "execution_count": 4,
   "id": "329baa94-93da-49cc-b70d-8a92c743148f",
   "metadata": {
    "tags": []
   },
   "outputs": [
    {
     "name": "stdout",
     "output_type": "stream",
     "text": [
      "1 if you add one 2\n"
     ]
    },
    {
     "data": {
      "text/plain": [
       "2"
      ]
     },
     "execution_count": 4,
     "metadata": {},
     "output_type": "execute_result"
    }
   ],
   "source": [
    "#Call the function add()\n",
    "add(1)"
   ]
  },
  {
   "cell_type": "code",
   "execution_count": 6,
   "id": "57e0c43a-0b43-4a26-a184-3e17b9e7dc27",
   "metadata": {
    "tags": []
   },
   "outputs": [
    {
     "name": "stdout",
     "output_type": "stream",
     "text": [
      "This is not printed\n",
      "24\n"
     ]
    }
   ],
   "source": [
    "#Define a function for multiple two numbers\n",
    "def Mult(a, b):\n",
    "    c = a*b\n",
    "    return(c)\n",
    "print('This is not printed')\n",
    "\n",
    "result = Mult(12, 2)\n",
    "print(result)"
   ]
  },
  {
   "cell_type": "code",
   "execution_count": 7,
   "id": "632fa812-6719-4b8a-bfc3-316a86bb02d6",
   "metadata": {
    "tags": []
   },
   "outputs": [
    {
     "data": {
      "text/plain": [
       "6"
      ]
     },
     "execution_count": 7,
     "metadata": {},
     "output_type": "execute_result"
    }
   ],
   "source": [
    "#Use mlt() multiply two integers\n",
    "Mult(2, 3)"
   ]
  },
  {
   "cell_type": "code",
   "execution_count": 9,
   "id": "fe6cd1d1-1497-4dc0-86eb-1be016769acd",
   "metadata": {
    "tags": []
   },
   "outputs": [
    {
     "data": {
      "text/plain": [
       "31.400000000000002"
      ]
     },
     "execution_count": 9,
     "metadata": {},
     "output_type": "execute_result"
    }
   ],
   "source": [
    "#Use mult() multiply two floats\n",
    "Mult(10.0, 3.14)"
   ]
  },
  {
   "cell_type": "code",
   "execution_count": 10,
   "id": "fc9d50d6-27ec-4bd2-811e-f4cbf6327d09",
   "metadata": {
    "tags": []
   },
   "outputs": [
    {
     "data": {
      "text/plain": [
       "'Kevin DurantKevin Durant'"
      ]
     },
     "execution_count": 10,
     "metadata": {},
     "output_type": "execute_result"
    }
   ],
   "source": [
    "#Use mult() multiply two different type values together\n",
    "Mult(2, 'Kevin Durant')"
   ]
  },
  {
   "cell_type": "markdown",
   "id": "7bd2ce04-5c1d-4642-95f0-dec22578e43f",
   "metadata": {},
   "source": [
    "## Variables"
   ]
  },
  {
   "cell_type": "code",
   "execution_count": 13,
   "id": "d70a0e90-c437-4824-b27a-7c543df51484",
   "metadata": {
    "tags": []
   },
   "outputs": [],
   "source": [
    "#Function efinition\n",
    "def square(a):\n",
    "    b = 1\n",
    "    c = a*a + b\n",
    "    print(a, 'if you square + 1', c)\n",
    "    return(c)"
   ]
  },
  {
   "cell_type": "code",
   "execution_count": 14,
   "id": "fabb0cc3-9e53-43a8-96bd-d6967f8cc8ee",
   "metadata": {
    "tags": []
   },
   "outputs": [
    {
     "name": "stdout",
     "output_type": "stream",
     "text": [
      "3 if you square + 1 10\n"
     ]
    },
    {
     "data": {
      "text/plain": [
       "10"
      ]
     },
     "execution_count": 14,
     "metadata": {},
     "output_type": "execute_result"
    }
   ],
   "source": [
    "#Initialize global variable\n",
    "x = 3\n",
    "\n",
    "#makes function call and return function a y\n",
    "y = square(x)\n",
    "y"
   ]
  },
  {
   "cell_type": "code",
   "execution_count": 15,
   "id": "c5ffc579-c24f-45ce-9dfd-8f51b46fb686",
   "metadata": {
    "tags": []
   },
   "outputs": [
    {
     "name": "stdout",
     "output_type": "stream",
     "text": [
      "2 if you square + 1 5\n"
     ]
    },
    {
     "data": {
      "text/plain": [
       "5"
      ]
     },
     "execution_count": 15,
     "metadata": {},
     "output_type": "execute_result"
    }
   ],
   "source": [
    "#Directly enter number as parameter\n",
    "square(2)"
   ]
  },
  {
   "cell_type": "code",
   "execution_count": 24,
   "id": "ba309574-d829-42c8-b092-914936ef6eaf",
   "metadata": {
    "tags": []
   },
   "outputs": [],
   "source": [
    "#Define funtions, one with return value none and other without return value\n",
    "\n",
    "def MJ():\n",
    "    print('Kevin Durant')\n",
    "    \n",
    "def MJ1():\n",
    "    print('Kevin Durant')\n",
    "    return(None)"
   ]
  },
  {
   "cell_type": "code",
   "execution_count": 25,
   "id": "cb115a4b-5704-4e29-9c28-c60170d90046",
   "metadata": {
    "tags": []
   },
   "outputs": [
    {
     "name": "stdout",
     "output_type": "stream",
     "text": [
      "Kevin Durant\n"
     ]
    }
   ],
   "source": [
    "#See the output of MJ\n",
    "MJ()"
   ]
  },
  {
   "cell_type": "code",
   "execution_count": 26,
   "id": "73844812-e9eb-4879-9582-6b679d891c2e",
   "metadata": {
    "tags": []
   },
   "outputs": [
    {
     "name": "stdout",
     "output_type": "stream",
     "text": [
      "Kevin Durant\n"
     ]
    }
   ],
   "source": [
    "#See the output of MJ1\n",
    "MJ1()"
   ]
  },
  {
   "cell_type": "code",
   "execution_count": 27,
   "id": "80b6bdf8-034a-4b6e-a834-942a4dfc1824",
   "metadata": {
    "tags": []
   },
   "outputs": [
    {
     "name": "stdout",
     "output_type": "stream",
     "text": [
      "Kevin Durant\n",
      "None\n",
      "Kevin Durant\n",
      "None\n"
     ]
    }
   ],
   "source": [
    "#See what functions rturns are\n",
    "print(MJ())\n",
    "print(MJ1())"
   ]
  },
  {
   "cell_type": "code",
   "execution_count": 28,
   "id": "1a804f89-6a2e-46dc-b68a-457b10289700",
   "metadata": {
    "tags": []
   },
   "outputs": [],
   "source": [
    "#Define the function for combining strings\n",
    "def con(a, b):\n",
    "\n",
    "    return (a + b)"
   ]
  },
  {
   "cell_type": "code",
   "execution_count": 30,
   "id": "084daba5-595a-4914-9d5f-8cef6f0b9aaf",
   "metadata": {
    "tags": []
   },
   "outputs": [
    {
     "data": {
      "text/plain": [
       "'This is'"
      ]
     },
     "execution_count": 30,
     "metadata": {},
     "output_type": "execute_result"
    }
   ],
   "source": [
    "#Test ont eh con() function'\n",
    "con('This ', 'is')"
   ]
  },
  {
   "cell_type": "markdown",
   "id": "86990728-9e57-4b05-96de-10cba66d1c9d",
   "metadata": {},
   "source": [
    "## Functions Make Things Simple"
   ]
  },
  {
   "cell_type": "code",
   "execution_count": 34,
   "id": "248a8910-b788-4d40-a467-cef19e8452ef",
   "metadata": {
    "tags": []
   },
   "outputs": [
    {
     "data": {
      "text/plain": [
       "5"
      ]
     },
     "execution_count": 34,
     "metadata": {},
     "output_type": "execute_result"
    }
   ],
   "source": [
    "#a and b calculation block1\n",
    "\n",
    "a1 = 4\n",
    "b1 = 5\n",
    "c1 = a1 + b1 + 2 * a1 * b1 - 1\n",
    "if(c1 < 0):\n",
    "    c1 = 0\n",
    "else:\n",
    "    c1 = 5\n",
    "c1"
   ]
  },
  {
   "cell_type": "code",
   "execution_count": 35,
   "id": "40c5cbda-1b24-4210-9127-a9ecdde27bcf",
   "metadata": {
    "tags": []
   },
   "outputs": [
    {
     "data": {
      "text/plain": [
       "0"
      ]
     },
     "execution_count": 35,
     "metadata": {},
     "output_type": "execute_result"
    }
   ],
   "source": [
    "#a and b calculationb lock2\n",
    "a2 = 0\n",
    "b2 = 0\n",
    "c2 = a2 + b2 + 2 * a2 * b2 - 1\n",
    "if(c2 < 0):\n",
    "    c2 = 0\n",
    "else:\n",
    "    c2 = 5\n",
    "c2"
   ]
  },
  {
   "cell_type": "code",
   "execution_count": 36,
   "id": "a982b504-1095-4814-8fb4-4afe455b409c",
   "metadata": {
    "tags": []
   },
   "outputs": [],
   "source": [
    "#Make a function for the calculation above\n",
    "def Equation(a, b):\n",
    "    c = a + b + 2 * a * b - 1\n",
    "    if(c<0):\n",
    "        c = 0\n",
    "    else:\n",
    "        c=5\n",
    "    return(c)"
   ]
  },
  {
   "cell_type": "code",
   "execution_count": 39,
   "id": "b52af83a-860c-468e-923d-70b681f40ac8",
   "metadata": {
    "tags": []
   },
   "outputs": [
    {
     "data": {
      "text/plain": [
       "5"
      ]
     },
     "execution_count": 39,
     "metadata": {},
     "output_type": "execute_result"
    }
   ],
   "source": [
    "#Block 3\n",
    "a1 =4\n",
    "b1=5\n",
    "c1=Equation(a1,b1)\n",
    "c1"
   ]
  },
  {
   "cell_type": "code",
   "execution_count": null,
   "id": "ae4ffe34-d191-443d-ab98-80d9ff2ed337",
   "metadata": {},
   "outputs": [],
   "source": [
    "#Block 4\n",
    "a2 = 0\n",
    "b2 = 0\n",
    "c2 = Equation(a2, b2)\n",
    "c2"
   ]
  },
  {
   "cell_type": "markdown",
   "id": "d35fb939-a6cb-4cf2-8f14-929d31074cf3",
   "metadata": {},
   "source": [
    "## Pre-defined functions"
   ]
  },
  {
   "cell_type": "code",
   "execution_count": 41,
   "id": "ef449266-d622-49ab-88f3-a9a32c6da54b",
   "metadata": {
    "tags": []
   },
   "outputs": [
    {
     "name": "stdout",
     "output_type": "stream",
     "text": [
      "[10.0, 8.5, 9.5, 7.0, 7.0, 9.5, 9.0, 9.5]\n"
     ]
    }
   ],
   "source": [
    "#build-in function print()\n",
    "album_ratings = [10.0, 8.5, 9.5, 7.0, 7.0, 9.5, 9.0, 9.5]\n",
    "print(album_ratings)"
   ]
  },
  {
   "cell_type": "code",
   "execution_count": 42,
   "id": "31d509ed-d8b4-47ac-b840-b3b711ad8c51",
   "metadata": {
    "tags": []
   },
   "outputs": [
    {
     "data": {
      "text/plain": [
       "70.0"
      ]
     },
     "execution_count": 42,
     "metadata": {},
     "output_type": "execute_result"
    }
   ],
   "source": [
    "#use sum() to add every element in a list or tuple together\n",
    "sum(album_ratings)"
   ]
  },
  {
   "cell_type": "code",
   "execution_count": 43,
   "id": "177df8e4-660c-4270-805a-7491396a8e4e",
   "metadata": {
    "tags": []
   },
   "outputs": [
    {
     "data": {
      "text/plain": [
       "8"
      ]
     },
     "execution_count": 43,
     "metadata": {},
     "output_type": "execute_result"
    }
   ],
   "source": [
    "#show the lenght of the list or tuple\n",
    "len(album_ratings)"
   ]
  },
  {
   "cell_type": "markdown",
   "id": "cad7410e-ee07-4dc8-a2ef-2aced2971c3c",
   "metadata": {},
   "source": [
    "## Using if/else statements and loops in functions"
   ]
  },
  {
   "cell_type": "code",
   "execution_count": 47,
   "id": "ae003de8-19fc-42c7-ae10-6c07d4724ca4",
   "metadata": {
    "tags": []
   },
   "outputs": [
    {
     "name": "stdout",
     "output_type": "stream",
     "text": [
      "Michael Jackson Thriller 1980\n",
      "Oldie\n"
     ]
    }
   ],
   "source": [
    "#Function example\n",
    "\n",
    "def type_of_album(artist, album, year_released):\n",
    "\n",
    "    print(artist, album, year_released)\n",
    "    if year_released > 1980:\n",
    "        return 'Modern'\n",
    "    else:\n",
    "        return 'Oldie'\n",
    "    \n",
    "x = type_of_album('Michael Jackson', 'Thriller', 1980)\n",
    "print(x)"
   ]
  },
  {
   "cell_type": "code",
   "execution_count": 53,
   "id": "526c06ab-9a49-4b03-90c6-200ffe5ec643",
   "metadata": {
    "tags": []
   },
   "outputs": [],
   "source": [
    "#print the list using for loop\n",
    "def PrintList(the_list):\n",
    "    for element in the_list:\n",
    "        print(element)"
   ]
  },
  {
   "cell_type": "code",
   "execution_count": 54,
   "id": "9104a851-f4fb-4002-8934-433fb10dd168",
   "metadata": {
    "tags": []
   },
   "outputs": [
    {
     "name": "stdout",
     "output_type": "stream",
     "text": [
      "1\n",
      "1\n",
      "the man\n",
      "abc\n"
     ]
    }
   ],
   "source": [
    "#Implement the printlist function\n",
    "PrintList(['1', 1, 'the man', 'abc'])"
   ]
  },
  {
   "cell_type": "markdown",
   "id": "63630b76-19e7-4f55-800d-cff2d8fc98f0",
   "metadata": {},
   "source": [
    "## Setting default argument values in your custom funcions"
   ]
  },
  {
   "cell_type": "code",
   "execution_count": 58,
   "id": "745225dc-328f-499b-9428-c3a1e9d99f60",
   "metadata": {
    "tags": []
   },
   "outputs": [],
   "source": [
    "#Example for setting param with default value\n",
    "def isGoodRating(rating=4):\n",
    "        if(rating < 7):\n",
    "            print('this album sucks its rating is', rating)\n",
    "        else:\n",
    "            print('this albm is good its rating is', rating)"
   ]
  },
  {
   "cell_type": "code",
   "execution_count": 60,
   "id": "a0621029-59fe-4ecf-b13b-93237d88dfe6",
   "metadata": {
    "tags": []
   },
   "outputs": [
    {
     "name": "stdout",
     "output_type": "stream",
     "text": [
      "this album sucks its rating is 4\n",
      "this albm is good its rating is 10\n"
     ]
    }
   ],
   "source": [
    "#Test the value with default value and with input\n",
    "\n",
    "isGoodRating()\n",
    "isGoodRating(10)"
   ]
  },
  {
   "cell_type": "markdown",
   "id": "95a45c19-2c9e-429d-8f63-de596d15c934",
   "metadata": {},
   "source": [
    "## Global variables"
   ]
  },
  {
   "cell_type": "code",
   "execution_count": 63,
   "id": "21e07c5d-6f15-4396-bf41-98be8c5e0f8b",
   "metadata": {
    "tags": []
   },
   "outputs": [
    {
     "name": "stdout",
     "output_type": "stream",
     "text": [
      "Michael Jackson is an artist\n"
     ]
    }
   ],
   "source": [
    "#Example of global variable\n",
    "artist = 'Michael Jackson'\n",
    "def printer1(artist):\n",
    "    internal_var1 = artist\n",
    "    print(artist, 'is an artist')\n",
    "    \n",
    "printer1(artist)"
   ]
  },
  {
   "cell_type": "code",
   "execution_count": 65,
   "id": "9ad0ec2a-58e4-4b0f-8327-011e1f3c16ec",
   "metadata": {
    "tags": []
   },
   "outputs": [
    {
     "name": "stdout",
     "output_type": "stream",
     "text": [
      "Michael Jackson is an artist\n",
      "Michael Jackson is an artist\n"
     ]
    }
   ],
   "source": [
    "artist = 'Michael Jackson'\n",
    "def printer(aritst):\n",
    "    global internal_var\n",
    "    internal_var = 'Whitney Houston'\n",
    "    print(artist, 'is an artist')\n",
    "    \n",
    "printer(artist)\n",
    "printer(internal_var)"
   ]
  },
  {
   "cell_type": "markdown",
   "id": "91e78007-7250-4bdb-9f6a-e7c6128f3cdf",
   "metadata": {},
   "source": [
    "## Scope of a variable"
   ]
  },
  {
   "cell_type": "code",
   "execution_count": 69,
   "id": "389e07b7-e7f8-449b-a630-7a1ebaa0b192",
   "metadata": {
    "tags": []
   },
   "outputs": [
    {
     "name": "stdout",
     "output_type": "stream",
     "text": [
      "Blink 182's rating is: 10.0\n",
      "Deep Purple's rating is: 0.0\n",
      "My favorite band is: Blink 182\n"
     ]
    }
   ],
   "source": [
    "#Example of a global variable\n",
    "\n",
    "myfavoriteband = 'Blink 182'\n",
    "\n",
    "def getbandrating(bandname):\n",
    "    if bandname == myfavoriteband:\n",
    "        return 10.0\n",
    "    else:\n",
    "        return 0.0\n",
    "    \n",
    "print(\"Blink 182's rating is:\", getbandrating('Blink 182'))\n",
    "print(\"Deep Purple's rating is:\", getbandrating('Deep Purple'))\n",
    "print(\"My favorite band is:\", myfavoriteband)"
   ]
  },
  {
   "cell_type": "code",
   "execution_count": null,
   "id": "ce28e84d-cf7e-4040-b7ad-b3c2d655d25f",
   "metadata": {
    "tags": []
   },
   "outputs": [],
   "source": [
    "#Deleting the variable 'myfavoriteband' from the previous example to demonstrate an example of a local variable\n",
    "del myfavoriteband\n",
    "\n",
    "#Example of a local variable\n",
    "\n",
    "def getbandrating(bandname):\n",
    "    myfavoriteband = 'Blink 182'\n",
    "    if bandname == myfavoriteband:\n",
    "        return 10.0\n",
    "    else:\n",
    "        return 0.0\n",
    "    \n",
    "print(\"Blink 182's rating is: \", getbandrating('Blink 182'))\n",
    "print(\"Deep Purple's rating is: \", getbandrating('Deep Purple'))\n",
    "print(\"My favorite band is\", myfavoriteband)"
   ]
  },
  {
   "cell_type": "code",
   "execution_count": null,
   "id": "b5cbeb86-2452-4971-b36f-f85fd2b7d189",
   "metadata": {},
   "outputs": [],
   "source": [
    "## Collections and Functions"
   ]
  },
  {
   "cell_type": "code",
   "execution_count": 73,
   "id": "b364b065-f811-4ecc-af85-428016f4d55c",
   "metadata": {
    "tags": []
   },
   "outputs": [
    {
     "name": "stdout",
     "output_type": "stream",
     "text": [
      "No of arguments: 3\n",
      "Horsefeather\n",
      "Adonis\n",
      "Bone\n",
      "No of arguments: 4\n",
      "Sidecare\n",
      "Long Island\n",
      "Mudslide\n",
      "Carriage\n"
     ]
    }
   ],
   "source": [
    "def printAll(*args):\n",
    "    print(\"No of arguments:\", len(args))\n",
    "    for argument in args:\n",
    "        print(argument)\n",
    "        \n",
    "#printAll with 3 arguments\n",
    "printAll('Horsefeather', 'Adonis', 'Bone')\n",
    "#printALL with 4 arguments\n",
    "printAll('Sidecare', 'Long Island', 'Mudslide', 'Carriage')"
   ]
  },
  {
   "cell_type": "code",
   "execution_count": 77,
   "id": "9a73dd6f-0724-45e1-a7d7-73a3ba5d6d96",
   "metadata": {
    "tags": []
   },
   "outputs": [
    {
     "name": "stdout",
     "output_type": "stream",
     "text": [
      "Coutnry : Canada\n",
      "Province : Ontartio\n",
      "City : Toronto\n"
     ]
    }
   ],
   "source": [
    "#Arguments can alsob e packed into a dictionary as shown\n",
    "def printDictionary(**args):\n",
    "    for key in args:\n",
    "        print(key + \" : \" + args[key])\n",
    "        \n",
    "printDictionary(Coutnry='Canada', Province = 'Ontartio', City = 'Toronto')"
   ]
  },
  {
   "cell_type": "code",
   "execution_count": 80,
   "id": "ab5e3dae-b4c3-4f80-b827-bd5997d8b7f3",
   "metadata": {
    "tags": []
   },
   "outputs": [
    {
     "data": {
      "text/plain": [
       "['One', 'Two', 'Three', 'Four']"
      ]
     },
     "execution_count": 80,
     "metadata": {},
     "output_type": "execute_result"
    }
   ],
   "source": [
    "#Functions can accept and return datat ypes, objets and even other functions are arguments\n",
    "def addItems(list):\n",
    "    list.append('Three')\n",
    "    list.append('Four')\n",
    "    \n",
    "myList = ['One', 'Two']\n",
    "\n",
    "addItems(myList)\n",
    "\n",
    "myList"
   ]
  },
  {
   "cell_type": "code",
   "execution_count": null,
   "id": "a7aa5fb7-395e-4522-a95c-948b4273b339",
   "metadata": {},
   "outputs": [],
   "source": [
    "#Function divides the first input by the second input\n",
    "\n",
    "def div(a, b):\n",
    "    return(a/b)"
   ]
  },
  {
   "cell_type": "code",
   "execution_count": 81,
   "id": "b9ff7a6b-2953-4337-b7c1-5743dc67930c",
   "metadata": {
    "tags": []
   },
   "outputs": [
    {
     "data": {
      "text/plain": [
       "4"
      ]
     },
     "execution_count": 81,
     "metadata": {},
     "output_type": "execute_result"
    }
   ],
   "source": [
    "#Can the con function we defined before be used to add two integers or trings?\n",
    "\n",
    "def con(a, b):\n",
    "    return (a + b)\n",
    "\n",
    "con(2, 2)"
   ]
  },
  {
   "cell_type": "code",
   "execution_count": 82,
   "id": "4b94a7dd-56f7-47c4-8231-154abf6f6c9a",
   "metadata": {
    "tags": []
   },
   "outputs": [
    {
     "data": {
      "text/plain": [
       "['a', 1, 'b', 1]"
      ]
     },
     "execution_count": 82,
     "metadata": {},
     "output_type": "execute_result"
    }
   ],
   "source": [
    "#Can the con function we defined before bre used to concatenate list or tuples?\n",
    "con(['a', 1], ['b', 1])"
   ]
  }
 ],
 "metadata": {
  "kernelspec": {
   "display_name": "Python 3 (ipykernel)",
   "language": "python",
   "name": "python3"
  },
  "language_info": {
   "codemirror_mode": {
    "name": "ipython",
    "version": 3
   },
   "file_extension": ".py",
   "mimetype": "text/x-python",
   "name": "python",
   "nbconvert_exporter": "python",
   "pygments_lexer": "ipython3",
   "version": "3.11.3"
  }
 },
 "nbformat": 4,
 "nbformat_minor": 5
}
