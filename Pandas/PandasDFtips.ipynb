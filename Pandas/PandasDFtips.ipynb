{
 "cells": [
  {
   "cell_type": "code",
   "execution_count": 8,
   "id": "5a7a3026-392b-44c7-999d-199666bce738",
   "metadata": {
    "tags": []
   },
   "outputs": [],
   "source": [
    "import pandas as pd\n",
    "import numpy as np"
   ]
  },
  {
   "cell_type": "code",
   "execution_count": 7,
   "id": "a51b1017-81d4-4756-8cae-67a8596435fb",
   "metadata": {
    "tags": []
   },
   "outputs": [
    {
     "name": "stdout",
     "output_type": "stream",
     "text": [
      "   col_1  col_2\n",
      "0    500    400\n",
      "1   1000    600\n"
     ]
    }
   ],
   "source": [
    "#Creating a DataFrame by passing a dictionary to a DataFrame constructor\n",
    "df = pd.DataFrame({'col_1':[500, 1000], 'col_2':[400, 600]})\n",
    "print(df)"
   ]
  },
  {
   "cell_type": "code",
   "execution_count": 10,
   "id": "94fda898-7ba9-44e6-9c76-d7f074e34508",
   "metadata": {
    "tags": []
   },
   "outputs": [
    {
     "data": {
      "text/html": [
       "<div>\n",
       "<style scoped>\n",
       "    .dataframe tbody tr th:only-of-type {\n",
       "        vertical-align: middle;\n",
       "    }\n",
       "\n",
       "    .dataframe tbody tr th {\n",
       "        vertical-align: top;\n",
       "    }\n",
       "\n",
       "    .dataframe thead th {\n",
       "        text-align: right;\n",
       "    }\n",
       "</style>\n",
       "<table border=\"1\" class=\"dataframe\">\n",
       "  <thead>\n",
       "    <tr style=\"text-align: right;\">\n",
       "      <th></th>\n",
       "      <th>0</th>\n",
       "      <th>1</th>\n",
       "      <th>2</th>\n",
       "      <th>3</th>\n",
       "      <th>4</th>\n",
       "      <th>5</th>\n",
       "      <th>6</th>\n",
       "      <th>7</th>\n",
       "    </tr>\n",
       "  </thead>\n",
       "  <tbody>\n",
       "    <tr>\n",
       "      <th>0</th>\n",
       "      <td>0.831359</td>\n",
       "      <td>0.106303</td>\n",
       "      <td>0.430581</td>\n",
       "      <td>0.825111</td>\n",
       "      <td>0.095216</td>\n",
       "      <td>0.580381</td>\n",
       "      <td>0.114925</td>\n",
       "      <td>0.764926</td>\n",
       "    </tr>\n",
       "    <tr>\n",
       "      <th>1</th>\n",
       "      <td>0.773204</td>\n",
       "      <td>0.699857</td>\n",
       "      <td>0.319252</td>\n",
       "      <td>0.651210</td>\n",
       "      <td>0.103825</td>\n",
       "      <td>0.748889</td>\n",
       "      <td>0.625980</td>\n",
       "      <td>0.027696</td>\n",
       "    </tr>\n",
       "    <tr>\n",
       "      <th>2</th>\n",
       "      <td>0.446056</td>\n",
       "      <td>0.724878</td>\n",
       "      <td>0.395726</td>\n",
       "      <td>0.983540</td>\n",
       "      <td>0.581888</td>\n",
       "      <td>0.489871</td>\n",
       "      <td>0.811567</td>\n",
       "      <td>0.512799</td>\n",
       "    </tr>\n",
       "    <tr>\n",
       "      <th>3</th>\n",
       "      <td>0.478376</td>\n",
       "      <td>0.231732</td>\n",
       "      <td>0.955337</td>\n",
       "      <td>0.224558</td>\n",
       "      <td>0.572255</td>\n",
       "      <td>0.422091</td>\n",
       "      <td>0.785012</td>\n",
       "      <td>0.120119</td>\n",
       "    </tr>\n",
       "  </tbody>\n",
       "</table>\n",
       "</div>"
      ],
      "text/plain": [
       "          0         1         2         3         4         5         6   \n",
       "0  0.831359  0.106303  0.430581  0.825111  0.095216  0.580381  0.114925  \\\n",
       "1  0.773204  0.699857  0.319252  0.651210  0.103825  0.748889  0.625980   \n",
       "2  0.446056  0.724878  0.395726  0.983540  0.581888  0.489871  0.811567   \n",
       "3  0.478376  0.231732  0.955337  0.224558  0.572255  0.422091  0.785012   \n",
       "\n",
       "          7  \n",
       "0  0.764926  \n",
       "1  0.027696  \n",
       "2  0.512799  \n",
       "3  0.120119  "
      ]
     },
     "execution_count": 10,
     "metadata": {},
     "output_type": "execute_result"
    }
   ],
   "source": [
    "#Create a DataFrame by using numpy's random.rand function\n",
    "df = pd.DataFrame(np.random.rand(4, 8))\n",
    "print(df)"
   ]
  },
  {
   "cell_type": "code",
   "execution_count": 11,
   "id": "a76c95a3-1512-49c9-9a40-55a0a4603bab",
   "metadata": {
    "tags": []
   },
   "outputs": [
    {
     "name": "stdout",
     "output_type": "stream",
     "text": [
      "          a         b         c         d         e         f         g   \n",
      "0  0.544385  0.013838  0.644165  0.632581  0.372304  0.726185  0.030222  \\\n",
      "1  0.106738  0.065520  0.622356  0.373396  0.408558  0.470096  0.997476   \n",
      "2  0.215811  0.608472  0.811934  0.094126  0.545757  0.222676  0.445910   \n",
      "3  0.236217  0.167643  0.744222  0.128877  0.016859  0.249523  0.407487   \n",
      "\n",
      "          h  \n",
      "0  0.571813  \n",
      "1  0.520805  \n",
      "2  0.345024  \n",
      "3  0.477158  \n"
     ]
    }
   ],
   "source": [
    "#If you want column names, you can create a string of letters and pass the list to your columns parameter\n",
    "df = pd.DataFrame(np.random.rand(4, 8), columns=list('abcdefgh'))\n",
    "print(df)"
   ]
  },
  {
   "cell_type": "code",
   "execution_count": 16,
   "id": "44bee98d-5fe2-4e08-9006-2aa0eb513eff",
   "metadata": {
    "tags": []
   },
   "outputs": [
    {
     "name": "stdout",
     "output_type": "stream",
     "text": [
      "          a         b         c         d         e         f         g   \n",
      "0  0.544385  0.013838  0.644165  0.632581  0.372304  0.726185  0.030222  \\\n",
      "1  0.106738  0.065520  0.622356  0.373396  0.408558  0.470096  0.997476   \n",
      "2  0.215811  0.608472  0.811934  0.094126  0.545757  0.222676  0.445910   \n",
      "3  0.236217  0.167643  0.744222  0.128877  0.016859  0.249523  0.407487   \n",
      "\n",
      "          h  \n",
      "0  0.571813  \n",
      "1  0.520805  \n",
      "2  0.345024  \n",
      "3  0.477158  \n"
     ]
    }
   ],
   "source": [
    "print(df)"
   ]
  },
  {
   "cell_type": "code",
   "execution_count": 17,
   "id": "a8839d34-eeab-4fab-b6af-797b908913ac",
   "metadata": {
    "tags": []
   },
   "outputs": [
    {
     "data": {
      "text/html": [
       "<div>\n",
       "<style scoped>\n",
       "    .dataframe tbody tr th:only-of-type {\n",
       "        vertical-align: middle;\n",
       "    }\n",
       "\n",
       "    .dataframe tbody tr th {\n",
       "        vertical-align: top;\n",
       "    }\n",
       "\n",
       "    .dataframe thead th {\n",
       "        text-align: right;\n",
       "    }\n",
       "</style>\n",
       "<table border=\"1\" class=\"dataframe\">\n",
       "  <thead>\n",
       "    <tr style=\"text-align: right;\">\n",
       "      <th></th>\n",
       "      <th>a</th>\n",
       "      <th>b</th>\n",
       "      <th>c</th>\n",
       "      <th>d</th>\n",
       "      <th>e</th>\n",
       "      <th>f</th>\n",
       "      <th>g</th>\n",
       "      <th>h</th>\n",
       "    </tr>\n",
       "  </thead>\n",
       "  <tbody>\n",
       "    <tr>\n",
       "      <th>3</th>\n",
       "      <td>0.236217</td>\n",
       "      <td>0.167643</td>\n",
       "      <td>0.744222</td>\n",
       "      <td>0.128877</td>\n",
       "      <td>0.016859</td>\n",
       "      <td>0.249523</td>\n",
       "      <td>0.407487</td>\n",
       "      <td>0.477158</td>\n",
       "    </tr>\n",
       "    <tr>\n",
       "      <th>2</th>\n",
       "      <td>0.215811</td>\n",
       "      <td>0.608472</td>\n",
       "      <td>0.811934</td>\n",
       "      <td>0.094126</td>\n",
       "      <td>0.545757</td>\n",
       "      <td>0.222676</td>\n",
       "      <td>0.445910</td>\n",
       "      <td>0.345024</td>\n",
       "    </tr>\n",
       "    <tr>\n",
       "      <th>1</th>\n",
       "      <td>0.106738</td>\n",
       "      <td>0.065520</td>\n",
       "      <td>0.622356</td>\n",
       "      <td>0.373396</td>\n",
       "      <td>0.408558</td>\n",
       "      <td>0.470096</td>\n",
       "      <td>0.997476</td>\n",
       "      <td>0.520805</td>\n",
       "    </tr>\n",
       "    <tr>\n",
       "      <th>0</th>\n",
       "      <td>0.544385</td>\n",
       "      <td>0.013838</td>\n",
       "      <td>0.644165</td>\n",
       "      <td>0.632581</td>\n",
       "      <td>0.372304</td>\n",
       "      <td>0.726185</td>\n",
       "      <td>0.030222</td>\n",
       "      <td>0.571813</td>\n",
       "    </tr>\n",
       "  </tbody>\n",
       "</table>\n",
       "</div>"
      ],
      "text/plain": [
       "          a         b         c         d         e         f         g   \n",
       "3  0.236217  0.167643  0.744222  0.128877  0.016859  0.249523  0.407487  \\\n",
       "2  0.215811  0.608472  0.811934  0.094126  0.545757  0.222676  0.445910   \n",
       "1  0.106738  0.065520  0.622356  0.373396  0.408558  0.470096  0.997476   \n",
       "0  0.544385  0.013838  0.644165  0.632581  0.372304  0.726185  0.030222   \n",
       "\n",
       "          h  \n",
       "3  0.477158  \n",
       "2  0.345024  \n",
       "1  0.520805  \n",
       "0  0.571813  "
      ]
     },
     "execution_count": 17,
     "metadata": {},
     "output_type": "execute_result"
    }
   ],
   "source": [
    "#Reversing the order of the DataFrame\n",
    "df.loc[::-1].head()"
   ]
  },
  {
   "cell_type": "code",
   "execution_count": 18,
   "id": "f623442e-8f63-41ee-b299-c2d705850f7a",
   "metadata": {
    "tags": []
   },
   "outputs": [
    {
     "data": {
      "text/html": [
       "<div>\n",
       "<style scoped>\n",
       "    .dataframe tbody tr th:only-of-type {\n",
       "        vertical-align: middle;\n",
       "    }\n",
       "\n",
       "    .dataframe tbody tr th {\n",
       "        vertical-align: top;\n",
       "    }\n",
       "\n",
       "    .dataframe thead th {\n",
       "        text-align: right;\n",
       "    }\n",
       "</style>\n",
       "<table border=\"1\" class=\"dataframe\">\n",
       "  <thead>\n",
       "    <tr style=\"text-align: right;\">\n",
       "      <th></th>\n",
       "      <th>a</th>\n",
       "      <th>b</th>\n",
       "      <th>c</th>\n",
       "      <th>d</th>\n",
       "      <th>e</th>\n",
       "      <th>f</th>\n",
       "      <th>g</th>\n",
       "      <th>h</th>\n",
       "    </tr>\n",
       "  </thead>\n",
       "  <tbody>\n",
       "    <tr>\n",
       "      <th>0</th>\n",
       "      <td>0.236217</td>\n",
       "      <td>0.167643</td>\n",
       "      <td>0.744222</td>\n",
       "      <td>0.128877</td>\n",
       "      <td>0.016859</td>\n",
       "      <td>0.249523</td>\n",
       "      <td>0.407487</td>\n",
       "      <td>0.477158</td>\n",
       "    </tr>\n",
       "    <tr>\n",
       "      <th>1</th>\n",
       "      <td>0.215811</td>\n",
       "      <td>0.608472</td>\n",
       "      <td>0.811934</td>\n",
       "      <td>0.094126</td>\n",
       "      <td>0.545757</td>\n",
       "      <td>0.222676</td>\n",
       "      <td>0.445910</td>\n",
       "      <td>0.345024</td>\n",
       "    </tr>\n",
       "    <tr>\n",
       "      <th>2</th>\n",
       "      <td>0.106738</td>\n",
       "      <td>0.065520</td>\n",
       "      <td>0.622356</td>\n",
       "      <td>0.373396</td>\n",
       "      <td>0.408558</td>\n",
       "      <td>0.470096</td>\n",
       "      <td>0.997476</td>\n",
       "      <td>0.520805</td>\n",
       "    </tr>\n",
       "    <tr>\n",
       "      <th>3</th>\n",
       "      <td>0.544385</td>\n",
       "      <td>0.013838</td>\n",
       "      <td>0.644165</td>\n",
       "      <td>0.632581</td>\n",
       "      <td>0.372304</td>\n",
       "      <td>0.726185</td>\n",
       "      <td>0.030222</td>\n",
       "      <td>0.571813</td>\n",
       "    </tr>\n",
       "  </tbody>\n",
       "</table>\n",
       "</div>"
      ],
      "text/plain": [
       "          a         b         c         d         e         f         g   \n",
       "0  0.236217  0.167643  0.744222  0.128877  0.016859  0.249523  0.407487  \\\n",
       "1  0.215811  0.608472  0.811934  0.094126  0.545757  0.222676  0.445910   \n",
       "2  0.106738  0.065520  0.622356  0.373396  0.408558  0.470096  0.997476   \n",
       "3  0.544385  0.013838  0.644165  0.632581  0.372304  0.726185  0.030222   \n",
       "\n",
       "          h  \n",
       "0  0.477158  \n",
       "1  0.345024  \n",
       "2  0.520805  \n",
       "3  0.571813  "
      ]
     },
     "execution_count": 18,
     "metadata": {},
     "output_type": "execute_result"
    }
   ],
   "source": [
    "#Reversing the order of the DF and resettin the index\n",
    "df.loc[::-1].reset_index(drop=True).head()"
   ]
  },
  {
   "cell_type": "code",
   "execution_count": 19,
   "id": "fbac872c-9730-44ea-ab9c-49f098d8988a",
   "metadata": {
    "tags": []
   },
   "outputs": [
    {
     "data": {
      "text/html": [
       "<div>\n",
       "<style scoped>\n",
       "    .dataframe tbody tr th:only-of-type {\n",
       "        vertical-align: middle;\n",
       "    }\n",
       "\n",
       "    .dataframe tbody tr th {\n",
       "        vertical-align: top;\n",
       "    }\n",
       "\n",
       "    .dataframe thead th {\n",
       "        text-align: right;\n",
       "    }\n",
       "</style>\n",
       "<table border=\"1\" class=\"dataframe\">\n",
       "  <thead>\n",
       "    <tr style=\"text-align: right;\">\n",
       "      <th></th>\n",
       "      <th>h</th>\n",
       "      <th>g</th>\n",
       "      <th>f</th>\n",
       "      <th>e</th>\n",
       "      <th>d</th>\n",
       "      <th>c</th>\n",
       "      <th>b</th>\n",
       "      <th>a</th>\n",
       "    </tr>\n",
       "  </thead>\n",
       "  <tbody>\n",
       "    <tr>\n",
       "      <th>0</th>\n",
       "      <td>0.571813</td>\n",
       "      <td>0.030222</td>\n",
       "      <td>0.726185</td>\n",
       "      <td>0.372304</td>\n",
       "      <td>0.632581</td>\n",
       "      <td>0.644165</td>\n",
       "      <td>0.013838</td>\n",
       "      <td>0.544385</td>\n",
       "    </tr>\n",
       "    <tr>\n",
       "      <th>1</th>\n",
       "      <td>0.520805</td>\n",
       "      <td>0.997476</td>\n",
       "      <td>0.470096</td>\n",
       "      <td>0.408558</td>\n",
       "      <td>0.373396</td>\n",
       "      <td>0.622356</td>\n",
       "      <td>0.065520</td>\n",
       "      <td>0.106738</td>\n",
       "    </tr>\n",
       "    <tr>\n",
       "      <th>2</th>\n",
       "      <td>0.345024</td>\n",
       "      <td>0.445910</td>\n",
       "      <td>0.222676</td>\n",
       "      <td>0.545757</td>\n",
       "      <td>0.094126</td>\n",
       "      <td>0.811934</td>\n",
       "      <td>0.608472</td>\n",
       "      <td>0.215811</td>\n",
       "    </tr>\n",
       "    <tr>\n",
       "      <th>3</th>\n",
       "      <td>0.477158</td>\n",
       "      <td>0.407487</td>\n",
       "      <td>0.249523</td>\n",
       "      <td>0.016859</td>\n",
       "      <td>0.128877</td>\n",
       "      <td>0.744222</td>\n",
       "      <td>0.167643</td>\n",
       "      <td>0.236217</td>\n",
       "    </tr>\n",
       "  </tbody>\n",
       "</table>\n",
       "</div>"
      ],
      "text/plain": [
       "          h         g         f         e         d         c         b   \n",
       "0  0.571813  0.030222  0.726185  0.372304  0.632581  0.644165  0.013838  \\\n",
       "1  0.520805  0.997476  0.470096  0.408558  0.373396  0.622356  0.065520   \n",
       "2  0.345024  0.445910  0.222676  0.545757  0.094126  0.811934  0.608472   \n",
       "3  0.477158  0.407487  0.249523  0.016859  0.128877  0.744222  0.167643   \n",
       "\n",
       "          a  \n",
       "0  0.544385  \n",
       "1  0.106738  \n",
       "2  0.215811  \n",
       "3  0.236217  "
      ]
     },
     "execution_count": 19,
     "metadata": {},
     "output_type": "execute_result"
    }
   ],
   "source": [
    "#Reversing the order of the columns\n",
    "df.loc[:, ::-1].head()"
   ]
  },
  {
   "cell_type": "code",
   "execution_count": 20,
   "id": "3c0b7f41-4730-49ad-b8ff-149ecf855494",
   "metadata": {
    "tags": []
   },
   "outputs": [
    {
     "data": {
      "text/plain": [
       "a    float64\n",
       "b    float64\n",
       "c    float64\n",
       "d    float64\n",
       "e    float64\n",
       "f    float64\n",
       "g    float64\n",
       "h    float64\n",
       "dtype: object"
      ]
     },
     "execution_count": 20,
     "metadata": {},
     "output_type": "execute_result"
    }
   ],
   "source": [
    "df.dtypes"
   ]
  },
  {
   "cell_type": "code",
   "execution_count": 21,
   "id": "3584eb7b-abee-4dee-a317-668ce7d4252f",
   "metadata": {
    "tags": []
   },
   "outputs": [
    {
     "data": {
      "text/html": [
       "<div>\n",
       "<style scoped>\n",
       "    .dataframe tbody tr th:only-of-type {\n",
       "        vertical-align: middle;\n",
       "    }\n",
       "\n",
       "    .dataframe tbody tr th {\n",
       "        vertical-align: top;\n",
       "    }\n",
       "\n",
       "    .dataframe thead th {\n",
       "        text-align: right;\n",
       "    }\n",
       "</style>\n",
       "<table border=\"1\" class=\"dataframe\">\n",
       "  <thead>\n",
       "    <tr style=\"text-align: right;\">\n",
       "      <th></th>\n",
       "      <th>a</th>\n",
       "      <th>b</th>\n",
       "      <th>c</th>\n",
       "      <th>d</th>\n",
       "      <th>e</th>\n",
       "      <th>f</th>\n",
       "      <th>g</th>\n",
       "      <th>h</th>\n",
       "    </tr>\n",
       "  </thead>\n",
       "  <tbody>\n",
       "    <tr>\n",
       "      <th>0</th>\n",
       "      <td>0.544385</td>\n",
       "      <td>0.013838</td>\n",
       "      <td>0.644165</td>\n",
       "      <td>0.632581</td>\n",
       "      <td>0.372304</td>\n",
       "      <td>0.726185</td>\n",
       "      <td>0.030222</td>\n",
       "      <td>0.571813</td>\n",
       "    </tr>\n",
       "    <tr>\n",
       "      <th>1</th>\n",
       "      <td>0.106738</td>\n",
       "      <td>0.065520</td>\n",
       "      <td>0.622356</td>\n",
       "      <td>0.373396</td>\n",
       "      <td>0.408558</td>\n",
       "      <td>0.470096</td>\n",
       "      <td>0.997476</td>\n",
       "      <td>0.520805</td>\n",
       "    </tr>\n",
       "    <tr>\n",
       "      <th>2</th>\n",
       "      <td>0.215811</td>\n",
       "      <td>0.608472</td>\n",
       "      <td>0.811934</td>\n",
       "      <td>0.094126</td>\n",
       "      <td>0.545757</td>\n",
       "      <td>0.222676</td>\n",
       "      <td>0.445910</td>\n",
       "      <td>0.345024</td>\n",
       "    </tr>\n",
       "    <tr>\n",
       "      <th>3</th>\n",
       "      <td>0.236217</td>\n",
       "      <td>0.167643</td>\n",
       "      <td>0.744222</td>\n",
       "      <td>0.128877</td>\n",
       "      <td>0.016859</td>\n",
       "      <td>0.249523</td>\n",
       "      <td>0.407487</td>\n",
       "      <td>0.477158</td>\n",
       "    </tr>\n",
       "  </tbody>\n",
       "</table>\n",
       "</div>"
      ],
      "text/plain": [
       "          a         b         c         d         e         f         g   \n",
       "0  0.544385  0.013838  0.644165  0.632581  0.372304  0.726185  0.030222  \\\n",
       "1  0.106738  0.065520  0.622356  0.373396  0.408558  0.470096  0.997476   \n",
       "2  0.215811  0.608472  0.811934  0.094126  0.545757  0.222676  0.445910   \n",
       "3  0.236217  0.167643  0.744222  0.128877  0.016859  0.249523  0.407487   \n",
       "\n",
       "          h  \n",
       "0  0.571813  \n",
       "1  0.520805  \n",
       "2  0.345024  \n",
       "3  0.477158  "
      ]
     },
     "execution_count": 21,
     "metadata": {},
     "output_type": "execute_result"
    }
   ],
   "source": [
    "#Selecting data based on dtypes\n",
    "df.select_dtypes(include='number').head()"
   ]
  },
  {
   "cell_type": "code",
   "execution_count": 22,
   "id": "af0a00ea-3133-4552-9a64-f5f06dac34a6",
   "metadata": {
    "tags": []
   },
   "outputs": [
    {
     "data": {
      "text/html": [
       "<div>\n",
       "<style scoped>\n",
       "    .dataframe tbody tr th:only-of-type {\n",
       "        vertical-align: middle;\n",
       "    }\n",
       "\n",
       "    .dataframe tbody tr th {\n",
       "        vertical-align: top;\n",
       "    }\n",
       "\n",
       "    .dataframe thead th {\n",
       "        text-align: right;\n",
       "    }\n",
       "</style>\n",
       "<table border=\"1\" class=\"dataframe\">\n",
       "  <thead>\n",
       "    <tr style=\"text-align: right;\">\n",
       "      <th></th>\n",
       "      <th>a</th>\n",
       "      <th>b</th>\n",
       "      <th>c</th>\n",
       "      <th>d</th>\n",
       "      <th>e</th>\n",
       "      <th>f</th>\n",
       "      <th>g</th>\n",
       "      <th>h</th>\n",
       "    </tr>\n",
       "  </thead>\n",
       "  <tbody>\n",
       "    <tr>\n",
       "      <th>0</th>\n",
       "      <td>0.544385</td>\n",
       "      <td>0.013838</td>\n",
       "      <td>0.644165</td>\n",
       "      <td>0.632581</td>\n",
       "      <td>0.372304</td>\n",
       "      <td>0.726185</td>\n",
       "      <td>0.030222</td>\n",
       "      <td>0.571813</td>\n",
       "    </tr>\n",
       "    <tr>\n",
       "      <th>1</th>\n",
       "      <td>0.106738</td>\n",
       "      <td>0.065520</td>\n",
       "      <td>0.622356</td>\n",
       "      <td>0.373396</td>\n",
       "      <td>0.408558</td>\n",
       "      <td>0.470096</td>\n",
       "      <td>0.997476</td>\n",
       "      <td>0.520805</td>\n",
       "    </tr>\n",
       "    <tr>\n",
       "      <th>2</th>\n",
       "      <td>0.215811</td>\n",
       "      <td>0.608472</td>\n",
       "      <td>0.811934</td>\n",
       "      <td>0.094126</td>\n",
       "      <td>0.545757</td>\n",
       "      <td>0.222676</td>\n",
       "      <td>0.445910</td>\n",
       "      <td>0.345024</td>\n",
       "    </tr>\n",
       "    <tr>\n",
       "      <th>3</th>\n",
       "      <td>0.236217</td>\n",
       "      <td>0.167643</td>\n",
       "      <td>0.744222</td>\n",
       "      <td>0.128877</td>\n",
       "      <td>0.016859</td>\n",
       "      <td>0.249523</td>\n",
       "      <td>0.407487</td>\n",
       "      <td>0.477158</td>\n",
       "    </tr>\n",
       "  </tbody>\n",
       "</table>\n",
       "</div>"
      ],
      "text/plain": [
       "          a         b         c         d         e         f         g   \n",
       "0  0.544385  0.013838  0.644165  0.632581  0.372304  0.726185  0.030222  \\\n",
       "1  0.106738  0.065520  0.622356  0.373396  0.408558  0.470096  0.997476   \n",
       "2  0.215811  0.608472  0.811934  0.094126  0.545757  0.222676  0.445910   \n",
       "3  0.236217  0.167643  0.744222  0.128877  0.016859  0.249523  0.407487   \n",
       "\n",
       "          h  \n",
       "0  0.571813  \n",
       "1  0.520805  \n",
       "2  0.345024  \n",
       "3  0.477158  "
      ]
     },
     "execution_count": 22,
     "metadata": {},
     "output_type": "execute_result"
    }
   ],
   "source": [
    "#Selecting data based on dtypes\n",
    "df.select_dtypes(include=['number', 'object']).head()"
   ]
  },
  {
   "cell_type": "code",
   "execution_count": 23,
   "id": "bc53923d-d2d8-4b69-88ce-0f6499a5e042",
   "metadata": {
    "tags": []
   },
   "outputs": [
    {
     "data": {
      "text/html": [
       "<div>\n",
       "<style scoped>\n",
       "    .dataframe tbody tr th:only-of-type {\n",
       "        vertical-align: middle;\n",
       "    }\n",
       "\n",
       "    .dataframe tbody tr th {\n",
       "        vertical-align: top;\n",
       "    }\n",
       "\n",
       "    .dataframe thead th {\n",
       "        text-align: right;\n",
       "    }\n",
       "</style>\n",
       "<table border=\"1\" class=\"dataframe\">\n",
       "  <thead>\n",
       "    <tr style=\"text-align: right;\">\n",
       "      <th></th>\n",
       "      <th>a</th>\n",
       "      <th>b</th>\n",
       "      <th>c</th>\n",
       "      <th>d</th>\n",
       "      <th>e</th>\n",
       "      <th>f</th>\n",
       "      <th>g</th>\n",
       "      <th>h</th>\n",
       "    </tr>\n",
       "  </thead>\n",
       "  <tbody>\n",
       "    <tr>\n",
       "      <th>0</th>\n",
       "      <td>0.544385</td>\n",
       "      <td>0.013838</td>\n",
       "      <td>0.644165</td>\n",
       "      <td>0.632581</td>\n",
       "      <td>0.372304</td>\n",
       "      <td>0.726185</td>\n",
       "      <td>0.030222</td>\n",
       "      <td>0.571813</td>\n",
       "    </tr>\n",
       "    <tr>\n",
       "      <th>1</th>\n",
       "      <td>0.106738</td>\n",
       "      <td>0.065520</td>\n",
       "      <td>0.622356</td>\n",
       "      <td>0.373396</td>\n",
       "      <td>0.408558</td>\n",
       "      <td>0.470096</td>\n",
       "      <td>0.997476</td>\n",
       "      <td>0.520805</td>\n",
       "    </tr>\n",
       "    <tr>\n",
       "      <th>2</th>\n",
       "      <td>0.215811</td>\n",
       "      <td>0.608472</td>\n",
       "      <td>0.811934</td>\n",
       "      <td>0.094126</td>\n",
       "      <td>0.545757</td>\n",
       "      <td>0.222676</td>\n",
       "      <td>0.445910</td>\n",
       "      <td>0.345024</td>\n",
       "    </tr>\n",
       "    <tr>\n",
       "      <th>3</th>\n",
       "      <td>0.236217</td>\n",
       "      <td>0.167643</td>\n",
       "      <td>0.744222</td>\n",
       "      <td>0.128877</td>\n",
       "      <td>0.016859</td>\n",
       "      <td>0.249523</td>\n",
       "      <td>0.407487</td>\n",
       "      <td>0.477158</td>\n",
       "    </tr>\n",
       "  </tbody>\n",
       "</table>\n",
       "</div>"
      ],
      "text/plain": [
       "          a         b         c         d         e         f         g   \n",
       "0  0.544385  0.013838  0.644165  0.632581  0.372304  0.726185  0.030222  \\\n",
       "1  0.106738  0.065520  0.622356  0.373396  0.408558  0.470096  0.997476   \n",
       "2  0.215811  0.608472  0.811934  0.094126  0.545757  0.222676  0.445910   \n",
       "3  0.236217  0.167643  0.744222  0.128877  0.016859  0.249523  0.407487   \n",
       "\n",
       "          h  \n",
       "0  0.571813  \n",
       "1  0.520805  \n",
       "2  0.345024  \n",
       "3  0.477158  "
      ]
     },
     "execution_count": 23,
     "metadata": {},
     "output_type": "execute_result"
    }
   ],
   "source": [
    "#Selecting data based on dtypes\n",
    "df.select_dtypes(exclude='object').head()"
   ]
  },
  {
   "cell_type": "code",
   "execution_count": 27,
   "id": "909d48a2-1d6e-4bf7-955a-adce1e1587aa",
   "metadata": {
    "tags": []
   },
   "outputs": [
    {
     "name": "stdout",
     "output_type": "stream",
     "text": [
      "  col_one col_two col_three\n",
      "0     1.5     4.5       7.5\n",
      "1     2.5     5.5       8.5\n",
      "2     3.5     7.5       9.5\n"
     ]
    }
   ],
   "source": [
    "#Creating a sample dataframe\n",
    "df = pd.DataFrame({'col_one':['1.5', '2.5', '3.5'],\n",
    "                   'col_two':['4.5', '5.5', '7.5'],\n",
    "                   'col_three':['7.5', '8.5', '9.5']})\n",
    "print(df)"
   ]
  },
  {
   "cell_type": "code",
   "execution_count": 28,
   "id": "47ef545a-1556-4300-bd0f-c4071dfe3579",
   "metadata": {
    "tags": []
   },
   "outputs": [
    {
     "data": {
      "text/plain": [
       "col_one      object\n",
       "col_two      object\n",
       "col_three    object\n",
       "dtype: object"
      ]
     },
     "execution_count": 28,
     "metadata": {},
     "output_type": "execute_result"
    }
   ],
   "source": [
    "df.dtypes"
   ]
  },
  {
   "cell_type": "code",
   "execution_count": 29,
   "id": "35f7bd80-757d-4944-ab69-e05132c2834c",
   "metadata": {
    "tags": []
   },
   "outputs": [
    {
     "data": {
      "text/plain": [
       "col_one      float64\n",
       "col_two      float64\n",
       "col_three    float64\n",
       "dtype: object"
      ]
     },
     "execution_count": 29,
     "metadata": {},
     "output_type": "execute_result"
    }
   ],
   "source": [
    "#Converting data types from object ie string to float\n",
    "df.astype({'col_one':'float', 'col_two':'float', 'col_three':'float'}).dtypes"
   ]
  }
 ],
 "metadata": {
  "kernelspec": {
   "display_name": "Python 3 (ipykernel)",
   "language": "python",
   "name": "python3"
  },
  "language_info": {
   "codemirror_mode": {
    "name": "ipython",
    "version": 3
   },
   "file_extension": ".py",
   "mimetype": "text/x-python",
   "name": "python",
   "nbconvert_exporter": "python",
   "pygments_lexer": "ipython3",
   "version": "3.11.3"
  }
 },
 "nbformat": 4,
 "nbformat_minor": 5
}
