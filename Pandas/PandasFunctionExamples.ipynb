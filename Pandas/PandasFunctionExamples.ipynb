{
 "cells": [
  {
   "cell_type": "code",
   "execution_count": 3,
   "id": "6a364130-73c4-4446-aaa8-33529ac9e79c",
   "metadata": {
    "tags": []
   },
   "outputs": [
    {
     "name": "stdout",
     "output_type": "stream",
     "text": [
      "    Name  Age  Salary\n",
      "0  Brent   31  100000\n",
      "1   Sean   32  120000\n",
      "2  Sunny   33  150000\n"
     ]
    }
   ],
   "source": [
    "import pandas as pd\n",
    "\n",
    "#Create a sample DataFrame\n",
    "data = {'Name': ['Brent', 'Sean', 'Sunny'],\n",
    "        'Age': [31, 32, 33],\n",
    "        'Salary': [100000, 120000, 150000]\n",
    "       }\n",
    "                   \n",
    "df = pd.DataFrame(data)\n",
    "print(df)"
   ]
  },
  {
   "cell_type": "code",
   "execution_count": 4,
   "id": "7789297a-99b3-4767-9948-fac8f7373211",
   "metadata": {
    "tags": []
   },
   "outputs": [
    {
     "name": "stdout",
     "output_type": "stream",
     "text": [
      "    Name  Age  Salary  DoubleSalary\n",
      "0  Brent   31  100000        200000\n",
      "1   Sean   32  120000        240000\n",
      "2  Sunny   33  150000        300000\n"
     ]
    }
   ],
   "source": [
    "#Define a function to double the salary\n",
    "def double_salary(salary):\n",
    "    return salary*2\n",
    "\n",
    "#Apply the function to the 'Salary' column\n",
    "df['DoubleSalary'] = df['Salary'].apply(double_salary)\n",
    "\n",
    "print(df)"
   ]
  },
  {
   "cell_type": "code",
   "execution_count": 11,
   "id": "2368257f-bb9c-4385-8978-f4b632cb775b",
   "metadata": {
    "tags": []
   },
   "outputs": [
    {
     "name": "stdout",
     "output_type": "stream",
     "text": [
      "      Name  Salary  Bonus\n",
      "0    Alice   50000   2000\n",
      "1      Bob   60000   3000\n",
      "2  Charlie   70000   4000\n"
     ]
    }
   ],
   "source": [
    "#Defining a function with multiple arguments\n",
    "\n",
    "# Create a sample DataFrame\n",
    "data = {'Name': ['Alice', 'Bob', 'Charlie'],\n",
    "        'Salary': [50000, 60000, 70000],\n",
    "        'Bonus': [2000, 3000, 4000]}\n",
    "\n",
    "df = pd.DataFrame(data)\n",
    "print(df)"
   ]
  },
  {
   "cell_type": "code",
   "execution_count": 10,
   "id": "5c0a366d-8c8d-4d78-b415-3434a9409ea5",
   "metadata": {
    "tags": []
   },
   "outputs": [
    {
     "name": "stdout",
     "output_type": "stream",
     "text": [
      "      Name  Salary  Bonus  TotalCompensation\n",
      "0    Alice   50000   2000              52000\n",
      "1      Bob   60000   3000              63000\n",
      "2  Charlie   70000   4000              74000\n"
     ]
    }
   ],
   "source": [
    "# Define a function to calculate total annual compensation\n",
    "def calculate_total_compensation(salary, bonus):\n",
    "    return salary + bonus\n",
    "\n",
    "# Apply the function to the 'Salary' and 'Bonus' columns\n",
    "df['TotalCompensation'] = df.apply(lambda row: calculate_total_compensation(row['Salary'], row['Bonus']), axis=1)\n",
    "\n",
    "print(df)\n"
   ]
  }
 ],
 "metadata": {
  "kernelspec": {
   "display_name": "Python 3 (ipykernel)",
   "language": "python",
   "name": "python3"
  },
  "language_info": {
   "codemirror_mode": {
    "name": "ipython",
    "version": 3
   },
   "file_extension": ".py",
   "mimetype": "text/x-python",
   "name": "python",
   "nbconvert_exporter": "python",
   "pygments_lexer": "ipython3",
   "version": "3.11.3"
  }
 },
 "nbformat": 4,
 "nbformat_minor": 5
}
