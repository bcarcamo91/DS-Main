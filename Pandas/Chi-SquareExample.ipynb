{
 "cells": [
  {
   "cell_type": "code",
   "execution_count": 11,
   "id": "01581c28-89c7-409f-b363-cc6bd5155a7a",
   "metadata": {
    "tags": []
   },
   "outputs": [
    {
     "name": "stdout",
     "output_type": "stream",
     "text": [
      "Contingency Table:\n",
      "Preference  A  B\n",
      "Gender          \n",
      "Female      0  3\n",
      "Male        3  0\n",
      "\n",
      "Chi-square value: 2.6666666666666665\n",
      "P-value: 0.10247043485974942\n",
      "\n",
      "Significance level: 0.05\n",
      "Critical value: 2.6666666666666665\n",
      "P-value: 0.10247043485974942\n",
      "Fail to reject the null hypothesis. There is no significant relationship between Gender and Preference.\n"
     ]
    }
   ],
   "source": [
    "#Chi square example using Pandas\n",
    "import pandas as pd\n",
    "from scipy.stats import chi2_contingency\n",
    "\n",
    "# Create a sample DataFrame\n",
    "data = {'Gender': ['Male', 'Female', 'Male', 'Female', 'Male', 'Female'],\n",
    "        'Preference': ['A', 'B', 'A', 'B', 'A', 'B']}\n",
    "\n",
    "df = pd.DataFrame(data)\n",
    "\n",
    "# Create a contingency table\n",
    "contingency_table = pd.crosstab(df['Gender'], df['Preference'])\n",
    "\n",
    "print(\"Contingency Table:\")\n",
    "print(contingency_table)\n",
    "\n",
    "# Perform chi-square test\n",
    "chi2, p, _, _ = chi2_contingency(contingency_table)\n",
    "\n",
    "print(\"\\nChi-square value:\", chi2)\n",
    "print(\"P-value:\", p)\n",
    "\n",
    "# Interpret the results\n",
    "alpha = 0.05\n",
    "print(\"\\nSignificance level:\", alpha)\n",
    "print(\"Critical value:\", chi2)\n",
    "print(\"P-value:\", p)\n",
    "\n",
    "if p < alpha:\n",
    "    print(\"Reject the null hypothesis. There is a significant relationship between Gender and Preference.\")\n",
    "else:\n",
    "    print(\"Fail to reject the null hypothesis. There is no significant relationship between Gender and Preference.\")\n"
   ]
  }
 ],
 "metadata": {
  "kernelspec": {
   "display_name": "Python 3 (ipykernel)",
   "language": "python",
   "name": "python3"
  },
  "language_info": {
   "codemirror_mode": {
    "name": "ipython",
    "version": 3
   },
   "file_extension": ".py",
   "mimetype": "text/x-python",
   "name": "python",
   "nbconvert_exporter": "python",
   "pygments_lexer": "ipython3",
   "version": "3.11.3"
  }
 },
 "nbformat": 4,
 "nbformat_minor": 5
}
