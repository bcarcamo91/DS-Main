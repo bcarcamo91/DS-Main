{
 "cells": [
  {
   "cell_type": "code",
   "execution_count": 4,
   "id": "63b76584-ce53-4489-bde1-526a02c60b58",
   "metadata": {},
   "outputs": [],
   "source": [
    "## Application Programming Interface"
   ]
  },
  {
   "cell_type": "code",
   "execution_count": 5,
   "id": "c3d8fe7b-ec5d-43d0-97dc-fb7ed0b17642",
   "metadata": {
    "tags": []
   },
   "outputs": [],
   "source": [
    "#Pandas is an API\n",
    "import pandas as pd\n",
    "import matplotlib.pyplot as plt"
   ]
  },
  {
   "cell_type": "code",
   "execution_count": 6,
   "id": "11f10cdd-0420-479c-bc75-bd13e40da0f1",
   "metadata": {},
   "outputs": [],
   "source": [
    "dict_={'a':[11,21,31],'b':[12,22,32]}"
   ]
  },
  {
   "cell_type": "code",
   "execution_count": 7,
   "id": "24eb7651-ceed-43c1-946a-f342eda5d20f",
   "metadata": {},
   "outputs": [
    {
     "data": {
      "text/plain": [
       "pandas.core.frame.DataFrame"
      ]
     },
     "execution_count": 7,
     "metadata": {},
     "output_type": "execute_result"
    }
   ],
   "source": [
    "df=pd.DataFrame(dict_)\n",
    "type(df)"
   ]
  },
  {
   "cell_type": "markdown",
   "id": "0118ff3b-384d-48c2-9639-de0a4498ce6c",
   "metadata": {},
   "source": [
    "<img src=\"https://cf-courses-data.s3.us.cloud-object-storage.appdomain.cloud/IBMDeveloperSkillsNetwork-PY0101EN-SkillsNetwork/labs/Module%205/images/pandas_api.png\" width=\"800,\" align=\"center\" alt=\"logistic regression block diagram\">\n"
   ]
  },
  {
   "cell_type": "code",
   "execution_count": 8,
   "id": "68464ebe-b005-4fa3-a5e7-ae173610a642",
   "metadata": {
    "tags": []
   },
   "outputs": [
    {
     "data": {
      "text/html": [
       "<div>\n",
       "<style scoped>\n",
       "    .dataframe tbody tr th:only-of-type {\n",
       "        vertical-align: middle;\n",
       "    }\n",
       "\n",
       "    .dataframe tbody tr th {\n",
       "        vertical-align: top;\n",
       "    }\n",
       "\n",
       "    .dataframe thead th {\n",
       "        text-align: right;\n",
       "    }\n",
       "</style>\n",
       "<table border=\"1\" class=\"dataframe\">\n",
       "  <thead>\n",
       "    <tr style=\"text-align: right;\">\n",
       "      <th></th>\n",
       "      <th>a</th>\n",
       "      <th>b</th>\n",
       "    </tr>\n",
       "  </thead>\n",
       "  <tbody>\n",
       "    <tr>\n",
       "      <th>0</th>\n",
       "      <td>11</td>\n",
       "      <td>12</td>\n",
       "    </tr>\n",
       "    <tr>\n",
       "      <th>1</th>\n",
       "      <td>21</td>\n",
       "      <td>22</td>\n",
       "    </tr>\n",
       "    <tr>\n",
       "      <th>2</th>\n",
       "      <td>31</td>\n",
       "      <td>32</td>\n",
       "    </tr>\n",
       "  </tbody>\n",
       "</table>\n",
       "</div>"
      ],
      "text/plain": [
       "    a   b\n",
       "0  11  12\n",
       "1  21  22\n",
       "2  31  32"
      ]
     },
     "execution_count": 8,
     "metadata": {},
     "output_type": "execute_result"
    }
   ],
   "source": [
    "df.head()"
   ]
  },
  {
   "cell_type": "code",
   "execution_count": 9,
   "id": "7efb417e-a5f0-4e42-8b7d-d2f91150a9f8",
   "metadata": {
    "tags": []
   },
   "outputs": [
    {
     "data": {
      "text/plain": [
       "a    21.0\n",
       "b    22.0\n",
       "dtype: float64"
      ]
     },
     "execution_count": 9,
     "metadata": {},
     "output_type": "execute_result"
    }
   ],
   "source": [
    "df.mean()"
   ]
  },
  {
   "cell_type": "code",
   "execution_count": null,
   "id": "b6e7ceee-f14c-4298-8181-45aaf4e1657e",
   "metadata": {
    "tags": []
   },
   "outputs": [],
   "source": [
    "!pip install nba_api"
   ]
  },
  {
   "cell_type": "code",
   "execution_count": 12,
   "id": "80cc5847-3e2d-4be0-8197-c3c923b52560",
   "metadata": {
    "tags": []
   },
   "outputs": [],
   "source": [
    "from nba_api.stats.static import teams\n",
    "import matplotlib.pyplot as plt"
   ]
  },
  {
   "cell_type": "code",
   "execution_count": 13,
   "id": "2c08af6d-15f3-4287-8613-6f1ce52e3848",
   "metadata": {
    "tags": []
   },
   "outputs": [],
   "source": [
    "nba_teams = teams.get_teams()"
   ]
  },
  {
   "cell_type": "code",
   "execution_count": 14,
   "id": "b5edf703-694e-4582-924f-46b98605ae11",
   "metadata": {
    "tags": []
   },
   "outputs": [
    {
     "data": {
      "text/plain": [
       "[{'id': 1610612737,\n",
       "  'full_name': 'Atlanta Hawks',\n",
       "  'abbreviation': 'ATL',\n",
       "  'nickname': 'Hawks',\n",
       "  'city': 'Atlanta',\n",
       "  'state': 'Georgia',\n",
       "  'year_founded': 1949},\n",
       " {'id': 1610612738,\n",
       "  'full_name': 'Boston Celtics',\n",
       "  'abbreviation': 'BOS',\n",
       "  'nickname': 'Celtics',\n",
       "  'city': 'Boston',\n",
       "  'state': 'Massachusetts',\n",
       "  'year_founded': 1946},\n",
       " {'id': 1610612739,\n",
       "  'full_name': 'Cleveland Cavaliers',\n",
       "  'abbreviation': 'CLE',\n",
       "  'nickname': 'Cavaliers',\n",
       "  'city': 'Cleveland',\n",
       "  'state': 'Ohio',\n",
       "  'year_founded': 1970}]"
      ]
     },
     "execution_count": 14,
     "metadata": {},
     "output_type": "execute_result"
    }
   ],
   "source": [
    "nba_teams[0:3]"
   ]
  },
  {
   "cell_type": "code",
   "execution_count": null,
   "id": "86296523-49eb-411f-9a6a-b79c88afa27e",
   "metadata": {
    "tags": []
   },
   "outputs": [],
   "source": [
    "dict_nba_team=one_dict(nba_teams)\n",
    "df_teams=pd.DataFrame(dict_nba_team)\n",
    "df_teams.head()"
   ]
  },
  {
   "cell_type": "code",
   "execution_count": null,
   "id": "d15dd514-d18d-4df8-9e4b-65fc566c0ff9",
   "metadata": {},
   "outputs": [],
   "source": [
    "df_warriors=df_teams[df_teams['nickname']=='Warriors']\n",
    "df_warriors"
   ]
  },
  {
   "cell_type": "code",
   "execution_count": null,
   "id": "95ae9b95-e149-49d3-b734-f35dd57a5edc",
   "metadata": {},
   "outputs": [],
   "source": [
    "id_warriors=df_warriors[['id']].values[0][0]\n",
    "# we now have an integer that can be used to request the Warriors information \n",
    "id_warriors"
   ]
  },
  {
   "cell_type": "code",
   "execution_count": null,
   "id": "bb58e7ba-0793-485d-bf2e-bdb55e7b907a",
   "metadata": {},
   "outputs": [],
   "source": [
    "from nba_api.stats.endpoints import leaguegamefinder"
   ]
  },
  {
   "cell_type": "code",
   "execution_count": null,
   "id": "ec6ea7b3-55df-47c6-a634-8e339b4dd40e",
   "metadata": {},
   "outputs": [],
   "source": [
    "# Since https://stats.nba.com does not allow api calls from Cloud IPs and Skills Network Labs uses a Cloud IP.\n",
    "# The following code is commented out, you can run it on jupyter labs on your own computer.\n",
    "gamefinder = leaguegamefinder.LeagueGameFinder(team_id_nullable=id_warriors)"
   ]
  },
  {
   "cell_type": "code",
   "execution_count": null,
   "id": "5c2d21d4-ba45-4df8-9a5c-8d64cf9deaaa",
   "metadata": {},
   "outputs": [],
   "source": [
    "# Since https://stats.nba.com does not allow api calls from Cloud IPs and Skills Network Labs uses a Cloud IP.\n",
    "# The following code is commented out, you can run it on jupyter labs on your own computer.\n",
    "gamefinder.get_json()"
   ]
  },
  {
   "cell_type": "code",
   "execution_count": null,
   "id": "b7ea1135-1988-463d-b33a-e4f9be93cb5e",
   "metadata": {},
   "outputs": [],
   "source": [
    "# Since https://stats.nba.com does not allow api calls from Cloud IPs and Skills Network Labs uses a Cloud IP.\n",
    "# The following code is comment out, you can run it on jupyter labs on your own computer.\n",
    "games = gamefinder.get_data_frames()[0]\n",
    "games.head()"
   ]
  },
  {
   "cell_type": "code",
   "execution_count": null,
   "id": "60fd9946-d29b-4a8c-838a-a150ef972e8f",
   "metadata": {},
   "outputs": [],
   "source": [
    "#Downloadin the dataframe fromt eh API call for the golden state warriors\n",
    "import requests\n",
    "\n",
    "filename = \"https://s3-api.us-geo.objectstorage.softlayer.net/cf-courses-data/CognitiveClass/PY0101EN/Chapter%205/Labs/Golden_State.pkl\"\n",
    "\n",
    "def download(url, filename):\n",
    "    response = requests.get(url)\n",
    "    if response.status_code == 200:\n",
    "        with open(filename, \"wb\") as f:\n",
    "            f.write(response.content)\n",
    "\n",
    "download(filename, \"Golden_State.pkl\")\n"
   ]
  },
  {
   "cell_type": "code",
   "execution_count": null,
   "id": "197130e1-304d-4887-9942-6b4595529242",
   "metadata": {},
   "outputs": [],
   "source": [
    "file_name = \"Golden_State.pkl\"\n",
    "games = pd.read_pickle(file_name)\n",
    "games.head()"
   ]
  },
  {
   "cell_type": "code",
   "execution_count": null,
   "id": "babd20ce-9022-41e0-9e5b-a67e2677c490",
   "metadata": {},
   "outputs": [],
   "source": [
    "#Create two dataframes, one for the games where the warriors faced the raptors at home, and the second for away games\n",
    "games_home=games[games['MATCHUP']=='GSW vs. TOR']\n",
    "games_away=games[games['MATCHUP']=='GSW @ TOR']"
   ]
  },
  {
   "cell_type": "code",
   "execution_count": null,
   "id": "1581ac14-c6c9-41a1-a502-f51da2124540",
   "metadata": {},
   "outputs": [],
   "source": [
    "#Calculating mean\n",
    "games_home['PLUS_MINUS'].mean()"
   ]
  },
  {
   "cell_type": "code",
   "execution_count": null,
   "id": "eafcf2ef-1aee-44bc-8bad-3936482ee4e0",
   "metadata": {},
   "outputs": [],
   "source": [
    "#Calculating mean\n",
    "games_away['PLUS_MINUS'].mean()"
   ]
  },
  {
   "cell_type": "code",
   "execution_count": null,
   "id": "86901914-2544-489a-bba4-1e21c0566d3e",
   "metadata": {},
   "outputs": [],
   "source": [
    "#Plotting\n",
    "fig, ax = plt.subplots()\n",
    "\n",
    "games_away.plot(x='GAME_DATE',y='PLUS_MINUS', ax=ax)\n",
    "games_home.plot(x='GAME_DATE',y='PLUS_MINUS', ax=ax)\n",
    "ax.legend([\"away\", \"home\"])\n",
    "plt.show()"
   ]
  },
  {
   "cell_type": "code",
   "execution_count": null,
   "id": "14be18b2-bf90-42ac-b4a4-6ae819bbd2cf",
   "metadata": {},
   "outputs": [],
   "source": [
    "#Calculating the mean for the column PTS for the dataframes games_home and games_away\n",
    "games_home['PTS'].mean()"
   ]
  }
 ],
 "metadata": {
  "kernelspec": {
   "display_name": "Python 3 (ipykernel)",
   "language": "python",
   "name": "python3"
  },
  "language_info": {
   "codemirror_mode": {
    "name": "ipython",
    "version": 3
   },
   "file_extension": ".py",
   "mimetype": "text/x-python",
   "name": "python",
   "nbconvert_exporter": "python",
   "pygments_lexer": "ipython3",
   "version": "3.11.3"
  }
 },
 "nbformat": 4,
 "nbformat_minor": 5
}
