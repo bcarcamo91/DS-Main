{
 "cells": [
  {
   "cell_type": "markdown",
   "id": "edfb1732-76d6-4186-9fc3-26c5bf24c8fa",
   "metadata": {},
   "source": [
    "## PyBasics"
   ]
  },
  {
   "cell_type": "code",
   "execution_count": 1,
   "id": "f4afb46c-7111-4dab-af90-1925c3204fde",
   "metadata": {
    "tags": []
   },
   "outputs": [],
   "source": [
    "#String\n",
    "my_string = \"Hello\""
   ]
  },
  {
   "cell_type": "code",
   "execution_count": null,
   "id": "7e7d1914-e958-474b-a4c3-f19e3566cf00",
   "metadata": {
    "tags": []
   },
   "outputs": [],
   "source": [
    "#String operations\n",
    "\n",
    "#returns the string wtih all upercase letters\n",
    "my_string.upper()\n",
    "\n",
    "#returns the length of a string\n",
    "len(my_string)\n",
    "\n",
    "#returns the index of the first instance of the string insdie the subject string, otherwise -1\n",
    "my_string.find('l')\n",
    "\n",
    "#replaces any instance of the first strin with the second in my_string\n",
    "my_string.replace('H', 'C')"
   ]
  },
  {
   "cell_type": "code",
   "execution_count": 5,
   "id": "879f2f5d-1703-47ed-a1bb-a12d4d06e0fc",
   "metadata": {
    "tags": []
   },
   "outputs": [],
   "source": [
    "#Integer\n",
    "My_integer=12321\n",
    "\n",
    "#Float\n",
    "my_decimal = 3.14\n",
    "\n",
    "#Boolean\n",
    "a = True\n",
    "b = False\n",
    "\n",
    "#Dictionary\n",
    "my_dictionary = {'banana': 1, 12: 'laptop', (0, 0): 'center'}"
   ]
  },
  {
   "cell_type": "code",
   "execution_count": null,
   "id": "9a040a15-3bbd-4b1b-88c4-dd55cfac73bb",
   "metadata": {
    "tags": []
   },
   "outputs": [],
   "source": [
    "#Dictionary operations\n",
    "                 \n",
    "#Access value using key\n",
    "my_dictionary['banana']\n",
    "\n",
    "#Get all keys in a dictionary as a list\n",
    "my_dictionary.keys()\n",
    "\n",
    "#Get all values in a dictionary as a list\n",
    "my_dictionary.values()"
   ]
  },
  {
   "cell_type": "code",
   "execution_count": 8,
   "id": "e3331292-26fd-4147-bee6-ad36789c05e4",
   "metadata": {
    "tags": []
   },
   "outputs": [],
   "source": [
    "#Tuple: unchangeable collection of objects\n",
    "tup = (1, 3.12, False, 'Hi')"
   ]
  },
  {
   "cell_type": "code",
   "execution_count": null,
   "id": "18739917-8ebd-4572-91e6-3d71d4301592",
   "metadata": {
    "tags": []
   },
   "outputs": [],
   "source": [
    "#List\n",
    "my_collection = [1, 1, 3.12, False, 'Hi']\n",
    "\n",
    "#List operations\n",
    "\n",
    "#returns the length of alist\n",
    "len(my_collection)\n",
    "\n",
    "#add multiple items to a list\n",
    "my_collection.extend(['More', 'Items'])\n",
    "\n",
    "#add a single item to a list\n",
    "my_collection.append('Single')\n",
    "\n",
    "#delete the object of a list at a specified index\n",
    "del(my_collection[2])\n",
    "\n",
    "#clone a list\n",
    "clone = my_collection[:]\n",
    "\n",
    "#concatenate two lists\n",
    "my_collection_2 = ['a', 'b', 'c']\n",
    "my_collection_3 = my_collection + my_collection2\n",
    "\n",
    "#calculate the sum of a list of ints or floats\n",
    "number_collection = [1, 2, 3, 4, 5]\n",
    "sum(number_collection)\n",
    "\n",
    "#check if an item is in a list, returns Boolean\n",
    "item in my_collection\n",
    "\n",
    "#check if an item is not in a list, returns Boolean\n",
    "item not in my_collection"
   ]
  },
  {
   "cell_type": "code",
   "execution_count": 15,
   "id": "e2031b2e-b4ab-466b-9d97-920f260d0843",
   "metadata": {
    "tags": []
   },
   "outputs": [],
   "source": [
    "#Set\n",
    "a = {100, 3.12, False, 'Bye'}\n",
    "b = {100, 3.12, 'Welcome'}"
   ]
  },
  {
   "cell_type": "code",
   "execution_count": null,
   "id": "d5487fac-9bd2-4931-904c-9480899c1aa0",
   "metadata": {},
   "outputs": [],
   "source": [
    "#Set operations\n",
    "\n",
    "#Convert a list to a set\n",
    "my_set = set{[1, 1, 2, 3]}"
   ]
  },
  {
   "cell_type": "code",
   "execution_count": null,
   "id": "6ee87694-39bf-41f2-a268-fd77deef52ce",
   "metadata": {
    "tags": []
   },
   "outputs": [],
   "source": [
    "#add an item to the set\n",
    "a.add(4)\n",
    "\n",
    "#remove an item from a set\n",
    "a.remove('Bye')\n",
    "\n",
    "#returns set a minus b\n",
    "a.difference(b)\n",
    "\n",
    "#returns intersection of set a and b\n",
    "a.intersection(b)\n",
    "\n",
    "#returns the union of set a and b\n",
    "a.union(b)\n",
    "\n",
    "#returns True if a is subset of b, false otherwise\n",
    "a.issubset(b)\n",
    "\n",
    "#Returns true if a is a superset of b, false otherwise\n",
    "a.issuperset(b)"
   ]
  },
  {
   "cell_type": "code",
   "execution_count": null,
   "id": "a287e043-63eb-49b0-ad3e-32e1c1668878",
   "metadata": {},
   "outputs": [],
   "source": [
    "#Indexing\n",
    "\n",
    "my_string[element_number]\n",
    "my_collection[element_number]\n",
    "my_tuple[element_number]"
   ]
  },
  {
   "cell_type": "code",
   "execution_count": null,
   "id": "737e28e3-37cb-48ba-86cb-709250aef328",
   "metadata": {},
   "outputs": [],
   "source": [
    "#Slicing\n",
    "my_string[start:stop]\n",
    "my_collection[start:stop]\n",
    "my_tuple[start:stop]"
   ]
  },
  {
   "cell_type": "code",
   "execution_count": null,
   "id": "a38f66ed-f334-497a-ae1a-aafcc1be10ae",
   "metadata": {},
   "outputs": [],
   "source": [
    "#Comparison Operators\n",
    "\n",
    "#equal\n",
    "a == b\n",
    "\n",
    "#less than\n",
    "a < b\n",
    "\n",
    "#greater than\n",
    "a > b\n",
    "\n",
    "#greater than or equal'\n",
    "a >= b\n",
    "\n",
    "#less than or equal\n",
    "a <= b\n",
    "\n",
    "#not equal\n",
    "a != b"
   ]
  },
  {
   "cell_type": "code",
   "execution_count": null,
   "id": "8554cc02-828b-4be3-9231-81b5f592c440",
   "metadata": {},
   "outputs": [],
   "source": [
    "#Conditional operators\n",
    "\n",
    "#And - returns true if both statement a and b are true, otherwise false\n",
    "a and b\n",
    "\n",
    "#Or - returns true if either statement a or b are true, otherwise false\n",
    "a or b\n",
    "\n",
    "#Not - returnst he opposite of the statement\n",
    "not a"
   ]
  },
  {
   "cell_type": "code",
   "execution_count": null,
   "id": "72d9bc62-18da-47e3-9088-306c3fca4fb3",
   "metadata": {},
   "outputs": [],
   "source": [
    "#Loops\n",
    "\n",
    "#for loops\n",
    "for x in range(x):\n",
    "    #executes loop x number of times\n",
    "    \n",
    "for x in iterable:\n",
    "    #executes loop for each object in an iterable like a string, tuple, list, or set\n",
    "    \n",
    "#while loops\n",
    "while statement:\n",
    "    #executes the loop while statement is true"
   ]
  },
  {
   "cell_type": "code",
   "execution_count": null,
   "id": "a4a5f985-37ac-401c-a9f8-6a53951469ee",
   "metadata": {},
   "outputs": [],
   "source": [
    "#Conditional statement\n",
    "if statement_1:\n",
    "    #execute of statement_1 is true\n",
    "elif statement_2:\n",
    "    #execute if statement_1 is false and statement_2 is true\n",
    "else:\n",
    "    #execute if all previous statements are false"
   ]
  },
  {
   "cell_type": "code",
   "execution_count": null,
   "id": "81cd4f5f-3454-46de-8201-cd6365eb04e9",
   "metadata": {},
   "outputs": [],
   "source": [
    "#Try/except\n",
    "try:\n",
    "    #code to try to execute\n",
    "except a:\n",
    "    #code to execute if there is an error of type a\n",
    "except b:\n",
    "    #code to exeute if there is an error of type b\n",
    "except:\n",
    "    #code to execute if there is any exception that has not been handled\n",
    "else:\n",
    "    #code to execute if there is no exception"
   ]
  },
  {
   "cell_type": "code",
   "execution_count": null,
   "id": "548383f6-2c8e-4304-96f4-d942249836c0",
   "metadata": {},
   "outputs": [],
   "source": [
    "#Error/types\n",
    "\n",
    "#IndexError - when an index is out of range\n",
    "#NameError - when a variable name is not found\n",
    "#SyntaxError - when there is an error with how the code is written\n",
    "#ZeroDivsionError - when your code tries to divide by zero"
   ]
  },
  {
   "cell_type": "code",
   "execution_count": null,
   "id": "0bb62db1-bf1e-415e-bc59-3420addd0f5b",
   "metadata": {},
   "outputs": [],
   "source": [
    "#Range\n",
    "range(stop)\n",
    "range(start, stop, step)"
   ]
  },
  {
   "cell_type": "code",
   "execution_count": null,
   "id": "602f3fcb-79f7-4d11-9b6a-3224da9f4d9a",
   "metadata": {},
   "outputs": [],
   "source": [
    "#Webscraping\n",
    "\n",
    "#Import beautiful soup\n",
    "from bs4 import BeautifulSoup\n",
    "\n",
    "#Parse html stored as a string\n",
    "soup = BeautifulSoup(html, 'html5lib')\n",
    "\n",
    "#Return formatted html\n",
    "soup.prettify()\n",
    "\n",
    "#findt he first instanec of an html tag\n",
    "soup.find(tag)\n",
    "\n",
    "#find all instanecs of an html tagb\n",
    "soup.find_all(tag)"
   ]
  },
  {
   "cell_type": "code",
   "execution_count": null,
   "id": "60a23a54-7447-4e42-a14c-a04fef14e8cc",
   "metadata": {},
   "outputs": [],
   "source": [
    "#Requests\n",
    "\n",
    "#import the requests library\n",
    "import requests\n",
    "\n",
    "#send a get request to the url with optional parameters\n",
    "response = requests.get(url, parameters)\n",
    "\n",
    "#get the url of the response\n",
    "response.url\n",
    "\n",
    "#get the status code of the response\n",
    "response.status_code\n",
    "\n",
    "#get the headers oft he request\n",
    "response.request.headers\n",
    "\n",
    "#get the body of the requests\n",
    "response.request.body\n",
    "\n",
    "#get the headers of the respoinse\n",
    "response.headers\n",
    "\n",
    "#get the content of the response in text\n",
    "response.text\n",
    "\n",
    "#get the content of teh response in json\n",
    "response.json()\n",
    "\n",
    "#send a post request to the url with optional parameters\n",
    "requests.post(url, parameters)"
   ]
  },
  {
   "cell_type": "code",
   "execution_count": null,
   "id": "558982a1-4639-4402-b86a-a149d7862b33",
   "metadata": {},
   "outputs": [],
   "source": [
    "#Functions\n",
    "\n",
    "#Create a function\n",
    "def function_name(optional_parameter_1, optional_parameter_2):\n",
    "    #code to execute\n",
    "    return optional_output\n",
    "\n",
    "#Calling a function\n",
    "output = function_name(parameter_1, parameter_2)"
   ]
  },
  {
   "cell_type": "code",
   "execution_count": null,
   "id": "68312b0a-3a74-4ec2-9aaf-4b7ce7e0c29b",
   "metadata": {},
   "outputs": [],
   "source": [
    "#Working with files\n",
    "\n",
    "#Reading a file\n",
    "\n",
    "#open a file in read mode\n",
    "file = open(file_name, 'r')\n",
    "\n",
    "#return the file name\n",
    "file.name\n",
    "\n",
    "#return the mode of the file was opened in\n",
    "file.mode\n",
    "\n",
    "#read the contents of a file\n",
    "file.read()\n",
    "\n",
    "#reads a certain number of characters of a file\n",
    "file.read(characters)\n",
    "\n",
    "#read a single line of a file\n",
    "file.readline()\n",
    "\n",
    "#read all the lines of a file and stores it in a list\n",
    "file.readlines()\n",
    "\n",
    "#closes a file\n",
    "file.close()\n",
    "\n",
    "#writing to a file\n",
    "#opens a file in wrtie mode\n",
    "file = open(file_name, 'w')\n",
    "\n",
    "#writes content to a file\n",
    "wfile.write(content)\n",
    "\n",
    "#adds content to he end of a file\n",
    "file.append(content)"
   ]
  },
  {
   "cell_type": "code",
   "execution_count": null,
   "id": "85db9586-d66e-48f9-8dca-db9e167247bb",
   "metadata": {},
   "outputs": [],
   "source": [
    "#Objects and classes\n",
    "\n",
    "#Creating a class\n",
    "class class_name:\n",
    "    def __init__(self, optional_parameters, optional_parameter_2):\n",
    "        self.attribute_1 = optional_parameter_1\n",
    "        self_attribute_2 = optional_parameter_2\n",
    "        \n",
    "    def method_name(self, optional_parameter_1):\n",
    "        #code to execute\n",
    "        return optional_output\n",
    "    \n",
    "#create an instance of a class\n",
    "object = class_name(parameter_1, parameter2)\n",
    "\n",
    "#calling an object method\n",
    "object.method_name(parmeter_3)"
   ]
  }
 ],
 "metadata": {
  "kernelspec": {
   "display_name": "Python 3 (ipykernel)",
   "language": "python",
   "name": "python3"
  },
  "language_info": {
   "codemirror_mode": {
    "name": "ipython",
    "version": 3
   },
   "file_extension": ".py",
   "mimetype": "text/x-python",
   "name": "python",
   "nbconvert_exporter": "python",
   "pygments_lexer": "ipython3",
   "version": "3.11.3"
  }
 },
 "nbformat": 4,
 "nbformat_minor": 5
}
