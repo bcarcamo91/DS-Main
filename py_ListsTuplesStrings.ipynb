{
 "cells": [
  {
   "cell_type": "markdown",
   "id": "e8d72aa2-3a66-41f6-80e4-6bb4fb25c6cc",
   "metadata": {
    "tags": []
   },
   "source": [
    "### Course: IBM Python for Data Science, AI & Development"
   ]
  },
  {
   "cell_type": "code",
   "execution_count": 8,
   "id": "7fbedd99-4cb4-48f8-ab18-d6f8d7616f33",
   "metadata": {
    "tags": []
   },
   "outputs": [
    {
     "name": "stdout",
     "output_type": "stream",
     "text": [
      "Hello, Python!\n"
     ]
    }
   ],
   "source": [
    "print('Hello, Python!') "
   ]
  },
  {
   "cell_type": "code",
   "execution_count": null,
   "id": "b0686150-7beb-42cf-805f-124af74fc467",
   "metadata": {
    "tags": []
   },
   "outputs": [],
   "source": [
    "frint('Hello, Python!')"
   ]
  },
  {
   "cell_type": "code",
   "execution_count": 10,
   "id": "7f2f4bb5-3677-4d96-b772-1ec1f4b33977",
   "metadata": {},
   "outputs": [
    {
     "data": {
      "text/plain": [
       "int"
      ]
     },
     "execution_count": 10,
     "metadata": {},
     "output_type": "execute_result"
    }
   ],
   "source": [
    "#types\n",
    "type(12)"
   ]
  },
  {
   "cell_type": "code",
   "execution_count": 11,
   "id": "23b17f1e-f0d8-474b-bcb1-415d0c69ee39",
   "metadata": {},
   "outputs": [
    {
     "data": {
      "text/plain": [
       "float"
      ]
     },
     "execution_count": 11,
     "metadata": {},
     "output_type": "execute_result"
    }
   ],
   "source": [
    "#floats\n",
    "type(1.0)\n",
    "type(0.5)\n",
    "type(0.56)"
   ]
  },
  {
   "cell_type": "code",
   "execution_count": 12,
   "id": "4a829698-89cc-470e-9e6c-e5865db7f34f",
   "metadata": {
    "tags": []
   },
   "outputs": [
    {
     "data": {
      "text/plain": [
       "float"
      ]
     },
     "execution_count": 12,
     "metadata": {},
     "output_type": "execute_result"
    }
   ],
   "source": [
    "#Converting to differen type\n",
    "type(2)\n",
    "float(2)\n",
    "type(float(2))"
   ]
  },
  {
   "cell_type": "code",
   "execution_count": 13,
   "id": "a30cc8a8-a9f0-4361-9430-7e32d086da65",
   "metadata": {
    "tags": []
   },
   "outputs": [
    {
     "data": {
      "text/plain": [
       "4.166666666666667"
      ]
     },
     "execution_count": 13,
     "metadata": {},
     "output_type": "execute_result"
    }
   ],
   "source": [
    "#Division operation expression\n",
    "25/6"
   ]
  },
  {
   "cell_type": "code",
   "execution_count": 14,
   "id": "dada3d8c-93c1-4158-8257-beb3fc1e0d6a",
   "metadata": {
    "tags": []
   },
   "outputs": [
    {
     "data": {
      "text/plain": [
       "4"
      ]
     },
     "execution_count": 14,
     "metadata": {},
     "output_type": "execute_result"
    }
   ],
   "source": [
    "#Division operation expression\n",
    "25//6"
   ]
  },
  {
   "cell_type": "markdown",
   "id": "d19777ed-21d1-4271-b853-67173c13d109",
   "metadata": {},
   "source": [
    "## String Operations"
   ]
  },
  {
   "cell_type": "code",
   "execution_count": 15,
   "id": "69d21646-aec0-4882-b822-f979a94e32de",
   "metadata": {
    "tags": []
   },
   "outputs": [
    {
     "data": {
      "text/plain": [
       "'Michael Jackson'"
      ]
     },
     "execution_count": 15,
     "metadata": {},
     "output_type": "execute_result"
    }
   ],
   "source": [
    "#Use single or double quotation marks for defining a string\n",
    "\"Michael Jackson\"\n",
    "'Michael Jackson'"
   ]
  },
  {
   "cell_type": "code",
   "execution_count": 16,
   "id": "99745cd9-1f7d-477d-b874-0b501c0aa69e",
   "metadata": {
    "tags": []
   },
   "outputs": [
    {
     "name": "stdout",
     "output_type": "stream",
     "text": [
      "Hello\n"
     ]
    }
   ],
   "source": [
    "print('Hello')"
   ]
  },
  {
   "cell_type": "code",
   "execution_count": 17,
   "id": "87c41e81-6cf3-44fc-b344-d0f33d0bf231",
   "metadata": {
    "tags": []
   },
   "outputs": [],
   "source": [
    "#A string is an ordered sequence, with first index being 0\n",
    "name = 'Kevin Durant'"
   ]
  },
  {
   "cell_type": "markdown",
   "id": "00d88e11-5219-4ccc-84c9-24be207df4d5",
   "metadata": {},
   "source": [
    "## Indexing"
   ]
  },
  {
   "cell_type": "code",
   "execution_count": 18,
   "id": "113f0e08-788c-430d-9bea-cd01e076ffb3",
   "metadata": {
    "tags": []
   },
   "outputs": [
    {
     "name": "stdout",
     "output_type": "stream",
     "text": [
      "K\n"
     ]
    }
   ],
   "source": [
    "#Printing the first integer\n",
    "print(name[0])"
   ]
  },
  {
   "cell_type": "code",
   "execution_count": 19,
   "id": "5b790994-58da-46f0-9b28-4af96ffe6ec2",
   "metadata": {
    "tags": []
   },
   "outputs": [
    {
     "name": "stdout",
     "output_type": "stream",
     "text": [
      "a\n"
     ]
    }
   ],
   "source": [
    "#Indexing works with negative integers\n",
    "print(name[-3])"
   ]
  },
  {
   "cell_type": "code",
   "execution_count": 20,
   "id": "07361c37-af78-4138-91d5-b668f2ddfb4f",
   "metadata": {
    "tags": []
   },
   "outputs": [
    {
     "data": {
      "text/plain": [
       "12"
      ]
     },
     "execution_count": 20,
     "metadata": {},
     "output_type": "execute_result"
    }
   ],
   "source": [
    "#Finding the length of a string\n",
    "len(name)"
   ]
  },
  {
   "cell_type": "markdown",
   "id": "2fa0a8ac-c74b-4270-ba65-5002c21b5a8e",
   "metadata": {},
   "source": [
    "## Slicing"
   ]
  },
  {
   "cell_type": "code",
   "execution_count": 21,
   "id": "c20b1d11-353c-4985-a735-9126280b87f2",
   "metadata": {
    "tags": []
   },
   "outputs": [
    {
     "name": "stdout",
     "output_type": "stream",
     "text": [
      "Kevin\n"
     ]
    }
   ],
   "source": [
    "#Printing a string by specifying the indexes\n",
    "print(name[0:5])"
   ]
  },
  {
   "cell_type": "markdown",
   "id": "dc72828a-27c8-43e5-9b13-4ab02befc282",
   "metadata": {},
   "source": [
    "## Stride"
   ]
  },
  {
   "cell_type": "code",
   "execution_count": 22,
   "id": "6c44b92c-7322-4b05-bb04-d30da39cb11b",
   "metadata": {
    "tags": []
   },
   "outputs": [
    {
     "data": {
      "text/plain": [
       "'KvnDrn'"
      ]
     },
     "execution_count": 22,
     "metadata": {},
     "output_type": "execute_result"
    }
   ],
   "source": [
    "#Get every second element. Element on index 1, 3, 5...\n",
    "name[::2]"
   ]
  },
  {
   "cell_type": "code",
   "execution_count": 23,
   "id": "d48890a0-b5fe-4128-a23a-f8d2f09d397c",
   "metadata": {
    "tags": []
   },
   "outputs": [
    {
     "data": {
      "text/plain": [
       "'Kvn'"
      ]
     },
     "execution_count": 23,
     "metadata": {},
     "output_type": "execute_result"
    }
   ],
   "source": [
    "#Get every second element in the range from index 0 to index 4\n",
    "name[0:5:2]"
   ]
  },
  {
   "cell_type": "markdown",
   "id": "0dc9f787-b550-4554-8e2e-45c38b8d3e61",
   "metadata": {},
   "source": [
    "## Concatenate Strings"
   ]
  },
  {
   "cell_type": "code",
   "execution_count": 24,
   "id": "40f7a880-6680-4f84-8b3b-febdc8531409",
   "metadata": {
    "tags": []
   },
   "outputs": [
    {
     "name": "stdout",
     "output_type": "stream",
     "text": [
      "Kevin Durant is a cupcake\n"
     ]
    }
   ],
   "source": [
    "#Concatenate strings\n",
    "name2 = name + ' is a cupcake'\n",
    "print(name2)"
   ]
  },
  {
   "cell_type": "code",
   "execution_count": 25,
   "id": "2c418c96-0b28-4d72-bdc2-f39d0b81186a",
   "metadata": {
    "tags": []
   },
   "outputs": [
    {
     "name": "stdout",
     "output_type": "stream",
     "text": [
      "Kevin Durant is a cupcake\n"
     ]
    }
   ],
   "source": [
    "print(name2[::])"
   ]
  },
  {
   "cell_type": "markdown",
   "id": "7b4cfea8-b819-4e51-8f69-10a0ca141619",
   "metadata": {},
   "source": [
    "## Escape sequences"
   ]
  },
  {
   "cell_type": "code",
   "execution_count": 26,
   "id": "954e29dc-b953-442b-87cb-9d3d6ef2c41a",
   "metadata": {
    "tags": []
   },
   "outputs": [
    {
     "name": "stdout",
     "output_type": "stream",
     "text": [
      "Kevin Durant \n",
      " is a great mid-range jump shooter\n"
     ]
    }
   ],
   "source": [
    "#New line escape sequence\n",
    "print('Kevin Durant \\n is a great mid-range jump shooter')"
   ]
  },
  {
   "cell_type": "code",
   "execution_count": 27,
   "id": "eaac3698-563b-424f-bb38-a9a1896671c2",
   "metadata": {
    "tags": []
   },
   "outputs": [
    {
     "name": "stdout",
     "output_type": "stream",
     "text": [
      "Kevin Durant \t is a great mid-range jump shooter\n"
     ]
    }
   ],
   "source": [
    "#Tab escape sequence\n",
    "print('Kevin Durant \\t is a great mid-range jump shooter')"
   ]
  },
  {
   "cell_type": "code",
   "execution_count": 28,
   "id": "473de13d-1622-4fbe-a736-096fc6955b3f",
   "metadata": {
    "tags": []
   },
   "outputs": [
    {
     "name": "stdout",
     "output_type": "stream",
     "text": [
      "Kevin Durant \\ is a great mid-range jump shooter\n"
     ]
    }
   ],
   "source": [
    "#Include back slash in string\n",
    "print('Kevin Durant \\\\ is a great mid-range jump shooter')"
   ]
  },
  {
   "cell_type": "code",
   "execution_count": 29,
   "id": "257889ad-afa5-4f57-944d-640c93dedab6",
   "metadata": {
    "tags": []
   },
   "outputs": [
    {
     "name": "stdout",
     "output_type": "stream",
     "text": [
      "Kevin Durant \\ is a great mid-range jump shooter\n"
     ]
    }
   ],
   "source": [
    "print(r'Kevin Durant \\ is a great mid-range jump shooter')"
   ]
  },
  {
   "cell_type": "markdown",
   "id": "212d8c34-f5db-4809-90bf-56fba3105984",
   "metadata": {},
   "source": [
    "## String Operations"
   ]
  },
  {
   "cell_type": "code",
   "execution_count": 30,
   "id": "4249cab5-e4b4-4fc1-959d-9f75206239f5",
   "metadata": {
    "tags": []
   },
   "outputs": [
    {
     "name": "stdout",
     "output_type": "stream",
     "text": [
      "KEVIN DURANT IS A CUPCAKE\n"
     ]
    }
   ],
   "source": [
    "# Convert all the characters in string to upper case\n",
    "b = name2.upper()\n",
    "print(b)"
   ]
  },
  {
   "cell_type": "code",
   "execution_count": 31,
   "id": "b48e3952-2576-4532-813a-7830567500dc",
   "metadata": {
    "tags": []
   },
   "outputs": [
    {
     "name": "stdout",
     "output_type": "stream",
     "text": [
      "Michael Jordan is a great shooter\n"
     ]
    }
   ],
   "source": [
    "# Replace the old substring with the new target substring is the segment has been found in the string\n",
    "a = 'Kevin Durant is a great shooter'\n",
    "b = a.replace('Kevin Durant', 'Michael Jordan')\n",
    "print(b)"
   ]
  },
  {
   "cell_type": "code",
   "execution_count": 32,
   "id": "3e5ba204-b529-4d73-aa61-342de64cb74e",
   "metadata": {
    "tags": []
   },
   "outputs": [
    {
     "data": {
      "text/plain": [
       "2"
      ]
     },
     "execution_count": 32,
     "metadata": {},
     "output_type": "execute_result"
    }
   ],
   "source": [
    "# Find the substring in the string. Only the index of the first elment of substring in string will be the output\n",
    "name = 'Kevin Durant'\n",
    "name.find('vin')"
   ]
  },
  {
   "cell_type": "markdown",
   "id": "cbcabc88-4251-4e48-86ad-e26188448e05",
   "metadata": {},
   "source": [
    "## Lists in Python"
   ]
  },
  {
   "cell_type": "code",
   "execution_count": 33,
   "id": "fb25f648-cb1f-4851-b3e4-84535f91a970",
   "metadata": {
    "tags": []
   },
   "outputs": [
    {
     "name": "stdout",
     "output_type": "stream",
     "text": [
      "Kevin Durant ,  Larry Bird ,  Michael Jordan ,  Kobe Bryant\n"
     ]
    }
   ],
   "source": [
    "#Index starts at 0\n",
    "my_list = ['Kevin Durant', 'Michael Jordan', 'Kobe Bryant', 'Larry Bird']\n",
    "print(my_list[0],', ', my_list[3],', ', my_list[1],', ', my_list[2])"
   ]
  },
  {
   "cell_type": "code",
   "execution_count": 34,
   "id": "14f32246-1bbf-43f1-9550-20c05d59a2cf",
   "metadata": {
    "tags": []
   },
   "outputs": [
    {
     "data": {
      "text/plain": [
       "['Kevin Durant', 'Michael Jordan']"
      ]
     },
     "execution_count": 34,
     "metadata": {},
     "output_type": "execute_result"
    }
   ],
   "source": [
    "#List slicing\n",
    "my_list[0:2]"
   ]
  },
  {
   "cell_type": "code",
   "execution_count": 35,
   "id": "45e01bbc-65eb-441d-aa8f-2bb159a9834d",
   "metadata": {
    "tags": []
   },
   "outputs": [
    {
     "name": "stdout",
     "output_type": "stream",
     "text": [
      "['Kevin Durant', 'Michael Jordan', 'Kobe Bryant', 'Larry Bird', 'Kevin Garnett', 'Bobby Portis']\n"
     ]
    }
   ],
   "source": [
    "#Using extend to add elements to a list\n",
    "my_list.extend(['Kevin Garnett', 'Bobby Portis'])\n",
    "print(my_list)"
   ]
  },
  {
   "cell_type": "code",
   "execution_count": 36,
   "id": "4b3c18d8-ac2c-4f0d-ad91-fd24f440556a",
   "metadata": {
    "tags": []
   },
   "outputs": [
    {
     "name": "stdout",
     "output_type": "stream",
     "text": [
      "['Kevin Durant', 'Michael Jordan', 'Kobe Bryant', 'Larry Bird', 'Kevin Garnett']\n"
     ]
    }
   ],
   "source": [
    "my_list = ['Kevin Durant', 'Michael Jordan', 'Kobe Bryant', 'Larry Bird']\n",
    "my_list.append('Kevin Garnett')\n",
    "print(my_list)"
   ]
  },
  {
   "cell_type": "code",
   "execution_count": 37,
   "id": "1035fc38-4f49-4da4-a7ee-650523198c85",
   "metadata": {
    "tags": []
   },
   "outputs": [
    {
     "name": "stdout",
     "output_type": "stream",
     "text": [
      "['Kevin Hart', 'Michael Jordan', 'Kobe Bryant', 'Larry Bird', 'Kevin Garnett']\n"
     ]
    }
   ],
   "source": [
    "#Changing the element of a list\n",
    "my_list[0] = 'Kevin Hart'\n",
    "print(my_list)"
   ]
  },
  {
   "cell_type": "code",
   "execution_count": 38,
   "id": "a81c94b2-dc3f-4231-ba60-5b8fa4a48f26",
   "metadata": {
    "tags": []
   },
   "outputs": [
    {
     "name": "stdout",
     "output_type": "stream",
     "text": [
      "['Michael Jordan', 'Kobe Bryant', 'Larry Bird', 'Kevin Garnett']\n"
     ]
    }
   ],
   "source": [
    "#Deleting an element based on an index\n",
    "del(my_list[0])\n",
    "print(my_list)"
   ]
  },
  {
   "cell_type": "code",
   "execution_count": 39,
   "id": "054f0b97-0c2c-42f1-9f6c-2f6834cc76f8",
   "metadata": {
    "tags": []
   },
   "outputs": [
    {
     "data": {
      "text/plain": [
       "['tall', 'building']"
      ]
     },
     "execution_count": 39,
     "metadata": {},
     "output_type": "execute_result"
    }
   ],
   "source": [
    "# Split the string, default is by space\n",
    "hard_string = 'tall building'\n",
    "hard_string.split()"
   ]
  },
  {
   "cell_type": "code",
   "execution_count": 40,
   "id": "de97dcd2-04ac-42d7-a9c5-39bd8473aa6d",
   "metadata": {
    "tags": []
   },
   "outputs": [
    {
     "data": {
      "text/plain": [
       "['A', ' B', ' C', ' D']"
      ]
     },
     "execution_count": 40,
     "metadata": {},
     "output_type": "execute_result"
    }
   ],
   "source": [
    "# Split the string by comma\n",
    "'A, B, C, D'.split(',')"
   ]
  },
  {
   "cell_type": "code",
   "execution_count": 41,
   "id": "02ffdcd9-38b7-4dc0-9036-901c50e932db",
   "metadata": {
    "tags": []
   },
   "outputs": [
    {
     "name": "stdout",
     "output_type": "stream",
     "text": [
      "tall building\n",
      "a:  tall building\n",
      "b:  tall building\n"
     ]
    }
   ],
   "source": [
    "#Copy and clone a list\n",
    "a = 'tall building'\n",
    "a.split()\n",
    "print(a)\n",
    "b = a\n",
    "print('a: ', a) \n",
    "print('b: ', b)"
   ]
  },
  {
   "cell_type": "markdown",
   "id": "5231cbe8-0c8d-4d8a-a579-01207437a8ba",
   "metadata": {},
   "source": [
    "## Copy vs. Cloning"
   ]
  },
  {
   "cell_type": "code",
   "execution_count": 42,
   "id": "db3773f6-5adf-4ed0-b43e-417dc61d6bc2",
   "metadata": {
    "tags": []
   },
   "outputs": [
    {
     "name": "stdout",
     "output_type": "stream",
     "text": [
      "tall building\n",
      "tall building\n"
     ]
    }
   ],
   "source": [
    "#Copying\n",
    "b = a\n",
    "#Cloning\n",
    "b2 = a[:]\n",
    "\n",
    "#Points to the same list stored in memory as a\n",
    "print(b)\n",
    "\n",
    "#Points to a different list stored in memory as a\n",
    "print(b2)"
   ]
  },
  {
   "cell_type": "code",
   "execution_count": 43,
   "id": "0f3b6ad0-e918-4191-9086-beea21800241",
   "metadata": {
    "tags": []
   },
   "outputs": [],
   "source": [
    "#Creating an empty list\n",
    "empty_list = []"
   ]
  },
  {
   "cell_type": "code",
   "execution_count": 44,
   "id": "73770450-24cf-4656-aad3-e1402a27bcbb",
   "metadata": {
    "tags": []
   },
   "outputs": [
    {
     "data": {
      "text/plain": [
       "('kevin', 'Wayne', 'Durant')"
      ]
     },
     "execution_count": 44,
     "metadata": {},
     "output_type": "execute_result"
    }
   ],
   "source": [
    "#Create your first tuple\n",
    "tuple1 = ('kevin', 'Wayne', 'Durant')\n",
    "tuple1"
   ]
  },
  {
   "cell_type": "code",
   "execution_count": 45,
   "id": "5c1034cc-7e91-46a8-a263-d5a23642ef0f",
   "metadata": {
    "tags": []
   },
   "outputs": [
    {
     "data": {
      "text/plain": [
       "tuple"
      ]
     },
     "execution_count": 45,
     "metadata": {},
     "output_type": "execute_result"
    }
   ],
   "source": [
    "# Print the type of the tuple you created\n",
    "type(tuple1)"
   ]
  },
  {
   "cell_type": "code",
   "execution_count": 46,
   "id": "fadd9bb0-0ee0-4f2a-bde5-fb639cb759ba",
   "metadata": {
    "tags": []
   },
   "outputs": [
    {
     "name": "stdout",
     "output_type": "stream",
     "text": [
      "kevin\n",
      "Wayne\n",
      "Durant\n",
      "<class 'str'>\n",
      "<class 'str'>\n",
      "<class 'str'>\n"
     ]
    }
   ],
   "source": [
    "# Print the variable on each index\n",
    "print(tuple1[0])\n",
    "print(tuple1[1])\n",
    "print(tuple1[2])"
   ]
  },
  {
   "cell_type": "code",
   "execution_count": null,
   "id": "20b8c2ae-fa55-44de-8004-9e979caa9acf",
   "metadata": {},
   "outputs": [],
   "source": [
    "# Print the type of value on each index\n",
    "print(type(tuple1[0]))\n",
    "print(type(tuple1[1]))\n",
    "print(type(tuple1[2]))"
   ]
  },
  {
   "cell_type": "code",
   "execution_count": null,
   "id": "80283ff3-61d2-4af0-ae72-c70293841e5f",
   "metadata": {},
   "outputs": [],
   "source": [
    "# Use negative index to get the value of the last element\n",
    "tuple1[-1]"
   ]
  },
  {
   "cell_type": "code",
   "execution_count": null,
   "id": "3904265e-b694-4629-a68b-a952c82bc7d4",
   "metadata": {},
   "outputs": [],
   "source": [
    "# Use negative index to get the value of the second last element\n"
   ]
  },
  {
   "cell_type": "code",
   "execution_count": null,
   "id": "dd268fd8-dcb1-4545-a451-5986d8ff8591",
   "metadata": {},
   "outputs": [],
   "source": [
    "# Use negative index to get the value of the third last element\n"
   ]
  },
  {
   "cell_type": "code",
   "execution_count": null,
   "id": "67e0e010-5d03-4b4a-9994-0ef8f3ded24a",
   "metadata": {},
   "outputs": [],
   "source": [
    "# Concatenate two tuples\n"
   ]
  },
  {
   "cell_type": "code",
   "execution_count": null,
   "id": "7c978f87-86db-428d-9f17-df486871b833",
   "metadata": {},
   "outputs": [],
   "source": [
    "# Slice from index 0 to index 2\n"
   ]
  },
  {
   "cell_type": "code",
   "execution_count": null,
   "id": "a7847628-53c7-4d22-9090-2453e34b4ca7",
   "metadata": {},
   "outputs": [],
   "source": [
    "# Slice from index 3 to index 4\n"
   ]
  },
  {
   "cell_type": "code",
   "execution_count": null,
   "id": "2311959a-429c-4b34-bece-c8c5c40fc57a",
   "metadata": {},
   "outputs": [],
   "source": [
    "# Get the length of tuple\n"
   ]
  },
  {
   "cell_type": "code",
   "execution_count": null,
   "id": "d9d02c07-ae0b-4a5e-aa3a-41bfd5e6cc59",
   "metadata": {},
   "outputs": [],
   "source": [
    "# A sample tuple\n"
   ]
  },
  {
   "cell_type": "code",
   "execution_count": null,
   "id": "4e220028-4b4c-4660-9f5c-57c486a93729",
   "metadata": {},
   "outputs": [],
   "source": [
    "# Create a nest tuple\n"
   ]
  },
  {
   "cell_type": "code",
   "execution_count": null,
   "id": "37d56cd9-921a-4b10-ab46-13193e342e68",
   "metadata": {},
   "outputs": [],
   "source": [
    "# Print element on each index\n"
   ]
  },
  {
   "cell_type": "code",
   "execution_count": null,
   "id": "02a9fca6-a327-4bb4-b082-31173e631389",
   "metadata": {},
   "outputs": [],
   "source": [
    "# Print element on each index, including nest indexes\n"
   ]
  },
  {
   "cell_type": "code",
   "execution_count": null,
   "id": "1b484954-e062-49c4-b0c8-2c7eb9fba94f",
   "metadata": {},
   "outputs": [],
   "source": [
    "# Print the first element in the second nested tuples\n"
   ]
  },
  {
   "cell_type": "code",
   "execution_count": null,
   "id": "e3af74ba-e5b2-4e0a-8a12-ce73926eaa00",
   "metadata": {},
   "outputs": [],
   "source": [
    "# Print the second element in the second nested tuples\n"
   ]
  },
  {
   "cell_type": "code",
   "execution_count": null,
   "id": "3df4a4d2-77ea-4763-9638-7e871180f71b",
   "metadata": {},
   "outputs": [],
   "source": [
    "# Print the first element in the second nested tuples\n"
   ]
  },
  {
   "cell_type": "code",
   "execution_count": null,
   "id": "153b81ad-f636-405c-979e-41250a66e22b",
   "metadata": {},
   "outputs": [],
   "source": [
    "# Print the second element in the second nested tuples\n"
   ]
  },
  {
   "cell_type": "code",
   "execution_count": null,
   "id": "f633d526-78c6-4bb0-ba32-8b342dbf5f39",
   "metadata": {},
   "outputs": [],
   "source": [
    "# sample tuple\n"
   ]
  },
  {
   "cell_type": "code",
   "execution_count": null,
   "id": "c15e8b56-c22b-4f2a-b8da-00bd7901657f",
   "metadata": {},
   "outputs": [],
   "source": [
    "# Write your code below and press Shift+Enter to execute\n"
   ]
  },
  {
   "cell_type": "markdown",
   "id": "73cd7582-ffc6-47f6-8832-999cf8e1d12c",
   "metadata": {},
   "source": [
    "## Dictionaries"
   ]
  },
  {
   "cell_type": "code",
   "execution_count": 5,
   "id": "e62f0fbd-a00b-411b-88bb-36689b32a8c6",
   "metadata": {
    "tags": []
   },
   "outputs": [
    {
     "name": "stdout",
     "output_type": "stream",
     "text": [
      "{'key 1': 1, 'key2': 2, 'key3': 3, (0, 1): 4}\n"
     ]
    }
   ],
   "source": [
    "#Dictionaries are like lists, but instead of having indexes like lists, they have keys\n",
    "#Dictionaries have keys and values\n",
    "\n",
    "dict = {'key 1': 1, 'key2': 2, 'key3': 3, (0, 1): 4}\n",
    "print(dict)"
   ]
  },
  {
   "cell_type": "code",
   "execution_count": 6,
   "id": "4b2f28e4-0274-4bf8-ae1f-fec8ba455412",
   "metadata": {
    "tags": []
   },
   "outputs": [
    {
     "data": {
      "text/plain": [
       "1"
      ]
     },
     "execution_count": 6,
     "metadata": {},
     "output_type": "execute_result"
    }
   ],
   "source": [
    "#Access dict values using the key\n",
    "dict['key 1']"
   ]
  },
  {
   "cell_type": "code",
   "execution_count": 7,
   "id": "aba4611d-57e1-4ad4-9161-65c2591c5f47",
   "metadata": {
    "tags": []
   },
   "outputs": [
    {
     "data": {
      "text/plain": [
       "4"
      ]
     },
     "execution_count": 7,
     "metadata": {},
     "output_type": "execute_result"
    }
   ],
   "source": [
    "#Keys can be any immutable object, such as a tuple\n",
    "dict[(0, 1)]"
   ]
  },
  {
   "cell_type": "code",
   "execution_count": 23,
   "id": "23ffcc9f-d59e-46b9-902c-faf4692ec95e",
   "metadata": {
    "tags": []
   },
   "outputs": [
    {
     "name": "stdout",
     "output_type": "stream",
     "text": [
      "{'PG': 'Steph Curry', 'PG2': 'Jordan Poole', 'PF': 'Andrew Wiggins', 'SF': 'Dario Sarich'}\n"
     ]
    }
   ],
   "source": [
    "#Create a sample dictionary\n",
    "\n",
    "gs_warriors_roster = {'PG': 'Steph Curry', 'PG2': 'Jordan Poole', 'PF': 'Draymond Green', 'SF': 'Dario Sarich', 'PF': 'Jonathan Kuminga', 'PF': 'Andrew Wiggins'}\n",
    "print(gs_warriors_roster)"
   ]
  },
  {
   "cell_type": "code",
   "execution_count": 24,
   "id": "4c6c2457-5159-4763-947f-8e69371dd202",
   "metadata": {
    "tags": []
   },
   "outputs": [
    {
     "data": {
      "text/plain": [
       "'Jordan Poole'"
      ]
     },
     "execution_count": 24,
     "metadata": {},
     "output_type": "execute_result"
    }
   ],
   "source": [
    "#Get value by keys\n",
    "gs_warriors_roster['PG2']"
   ]
  },
  {
   "cell_type": "code",
   "execution_count": 25,
   "id": "256bb282-a653-4f24-ba16-6b4e99219a86",
   "metadata": {
    "tags": []
   },
   "outputs": [
    {
     "data": {
      "text/plain": [
       "dict_keys(['PG', 'PG2', 'PF', 'SF'])"
      ]
     },
     "execution_count": 25,
     "metadata": {},
     "output_type": "execute_result"
    }
   ],
   "source": [
    "#Get all the keys in the dictionary\n",
    "gs_warriors_roster.keys() "
   ]
  },
  {
   "cell_type": "code",
   "execution_count": 26,
   "id": "2719544d-3270-48c2-a30d-c1b7e1f95529",
   "metadata": {
    "tags": []
   },
   "outputs": [
    {
     "data": {
      "text/plain": [
       "dict_values(['Steph Curry', 'Jordan Poole', 'Andrew Wiggins', 'Dario Sarich'])"
      ]
     },
     "execution_count": 26,
     "metadata": {},
     "output_type": "execute_result"
    }
   ],
   "source": [
    "#Get all the values in a dictionar\n",
    "gs_warriors_roster.values()"
   ]
  },
  {
   "cell_type": "code",
   "execution_count": 27,
   "id": "7e724038-a7e6-4a56-8e5b-72770bf8697e",
   "metadata": {
    "tags": []
   },
   "outputs": [
    {
     "data": {
      "text/plain": [
       "{'PG': 'Steph Curry',\n",
       " 'PG2': 'Chris Paul',\n",
       " 'PF': 'Andrew Wiggins',\n",
       " 'SF': 'Dario Sarich'}"
      ]
     },
     "execution_count": 27,
     "metadata": {},
     "output_type": "execute_result"
    }
   ],
   "source": [
    "#Append a value with key into dictionary\n",
    "gs_warriors_roster['PG2'] = 'Chris Paul'\n",
    "gs_warriors_roster"
   ]
  },
  {
   "cell_type": "code",
   "execution_count": 28,
   "id": "f9ba3de5-65cf-4b57-bb0e-fcfbffb127d6",
   "metadata": {
    "tags": []
   },
   "outputs": [],
   "source": [
    "#Delete entries by key\n",
    "del(gs_warriors_roster['PG'])\n",
    "del(gs_warriors_roster['PG2'])"
   ]
  },
  {
   "cell_type": "code",
   "execution_count": 29,
   "id": "8cd41bcf-d21c-4ce5-93b0-7b5eaef9b945",
   "metadata": {
    "tags": []
   },
   "outputs": [
    {
     "data": {
      "text/plain": [
       "{'PF': 'Andrew Wiggins', 'SF': 'Dario Sarich'}"
      ]
     },
     "execution_count": 29,
     "metadata": {},
     "output_type": "execute_result"
    }
   ],
   "source": [
    "gs_warriors_roster"
   ]
  },
  {
   "cell_type": "code",
   "execution_count": 30,
   "id": "c22d8c7b-a32c-4547-8655-40bc450a96c0",
   "metadata": {
    "tags": []
   },
   "outputs": [
    {
     "data": {
      "text/plain": [
       "True"
      ]
     },
     "execution_count": 30,
     "metadata": {},
     "output_type": "execute_result"
    }
   ],
   "source": [
    "#Verify a key is in a dictionary\n",
    "'PF' in gs_warriors_roster"
   ]
  }
 ],
 "metadata": {
  "kernelspec": {
   "display_name": "Python 3 (ipykernel)",
   "language": "python",
   "name": "python3"
  },
  "language_info": {
   "codemirror_mode": {
    "name": "ipython",
    "version": 3
   },
   "file_extension": ".py",
   "mimetype": "text/x-python",
   "name": "python",
   "nbconvert_exporter": "python",
   "pygments_lexer": "ipython3",
   "version": "3.11.3"
  }
 },
 "nbformat": 4,
 "nbformat_minor": 5
}
